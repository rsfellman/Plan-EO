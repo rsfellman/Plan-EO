{
 "cells": [
  {
   "cell_type": "markdown",
   "id": "b4e945e9-d5dd-4e06-83c7-fc51bf857693",
   "metadata": {},
   "source": [
    "4/7 - this is the current code to download WorldPop population density data for year 2020 (most recent year at resolution = 1km)\n",
    "\n",
    "This will not require frequent re-updates, but any updates will require changing several of the below code cells (see notes in comments and in Markdown cells below)"
   ]
  },
  {
   "cell_type": "code",
   "execution_count": 2,
   "id": "712af275-5b9b-4e2d-9c57-7a7f4ba3f639",
   "metadata": {
    "tags": []
   },
   "outputs": [],
   "source": [
    "import requests\n",
    "import json\n",
    "import pandas as pd\n",
    "from urllib.request import urlretrieve"
   ]
  },
  {
   "cell_type": "code",
   "execution_count": 19,
   "id": "a3444615-7099-4f5d-bc4d-88e359c6a4e9",
   "metadata": {
    "tags": []
   },
   "outputs": [
    {
     "data": {
      "text/plain": [
       "{'data': [{'alias': 'pic', 'name': 'Individual countries'},\n",
       "  {'alias': 'pop_continent', 'name': 'Whole Continent'},\n",
       "  {'alias': 'wpgp',\n",
       "   'name': 'Unconstrained individual countries 2000-2020 ( 100m resolution )'},\n",
       "  {'alias': 'wpgp1km',\n",
       "   'name': 'Unconstrained global mosaics 2000-2020 ( 1km resolution )'},\n",
       "  {'alias': '', 'name': 'WP00643'},\n",
       "  {'alias': 'wpgpunadj',\n",
       "   'name': 'Unconstrained individual countries 2000-2020 UN adjusted ( 100m resolution )'},\n",
       "  {'alias': 'wpic1km',\n",
       "   'name': 'Unconstrained individual countries 2000-2020  ( 1km resolution )'},\n",
       "  {'alias': 'wpicuadj1km',\n",
       "   'name': 'Unconstrained individual countries 2000-2020 UN adjusted ( 1km resolution )'},\n",
       "  {'alias': 'cic2020_100m',\n",
       "   'name': 'Constrained Individual countries 2020 ( 100m resolution )'},\n",
       "  {'alias': 'cic2020_UNadj_100m',\n",
       "   'name': 'Constrained Individual countries 2020 UN adjusted  (100m resolution)'},\n",
       "  {'alias': 'G2_UC_POP_2024_100m',\n",
       "   'name': 'Unconstrained individual countries 2024 ( 100m resolution )'},\n",
       "  {'alias': 'G2_CN_POP_2024_100m',\n",
       "   'name': 'Constrained individual countries 2024 ( 100m resolution ) '},\n",
       "  {'alias': 'G2_UC_POP_R24B_100m',\n",
       "   'name': 'Unconstrained individual countries 2015-2030 ( 100m resolution ) R2024B v1'},\n",
       "  {'alias': 'G2_CN_POP_R24B_100m',\n",
       "   'name': 'Constrained individual countries 2015-2030 ( 100m resolution ) R2024B v1'}]}"
      ]
     },
     "execution_count": 19,
     "metadata": {},
     "output_type": "execute_result"
    }
   ],
   "source": [
    "# view available aliases (also serves as test that API endpoint is working correctly)\n",
    "url = \"https://www.worldpop.org/rest/data/pop/\"\n",
    "\n",
    "response = requests.get(url)\n",
    "\n",
    "text = json.loads(response.text)\n",
    "text"
   ]
  },
  {
   "cell_type": "markdown",
   "id": "e08ef308-1363-48f5-92f1-0d18f29d97b2",
   "metadata": {},
   "source": [
    "The above shows the available resolutions and time periods for population density data. Right now we are using `wpic1km`, but if a preferred version becomes available, we can update the below cell which specifies the alias. The code below automatically updates that alias in the API call."
   ]
  },
  {
   "cell_type": "code",
   "execution_count": 20,
   "id": "67fb3a12-61c7-4b02-903f-efdec885b7f9",
   "metadata": {
    "tags": []
   },
   "outputs": [],
   "source": [
    "alias = 'wpic1km'"
   ]
  },
  {
   "cell_type": "code",
   "execution_count": 15,
   "id": "0edb480b-4ca2-4f3d-8799-f6c38ab14ceb",
   "metadata": {
    "tags": []
   },
   "outputs": [
    {
     "data": {
      "text/html": [
       "<div>\n",
       "<style scoped>\n",
       "    .dataframe tbody tr th:only-of-type {\n",
       "        vertical-align: middle;\n",
       "    }\n",
       "\n",
       "    .dataframe tbody tr th {\n",
       "        vertical-align: top;\n",
       "    }\n",
       "\n",
       "    .dataframe thead th {\n",
       "        text-align: right;\n",
       "    }\n",
       "</style>\n",
       "<table border=\"1\" class=\"dataframe\">\n",
       "  <thead>\n",
       "    <tr style=\"text-align: right;\">\n",
       "      <th></th>\n",
       "      <th>Name</th>\n",
       "      <th>ISO2</th>\n",
       "      <th>ISO3</th>\n",
       "    </tr>\n",
       "  </thead>\n",
       "  <tbody>\n",
       "    <tr>\n",
       "      <th>0</th>\n",
       "      <td>Afghanistan</td>\n",
       "      <td>AF</td>\n",
       "      <td>AFG</td>\n",
       "    </tr>\n",
       "    <tr>\n",
       "      <th>1</th>\n",
       "      <td>Algeria</td>\n",
       "      <td>DZ</td>\n",
       "      <td>DZA</td>\n",
       "    </tr>\n",
       "    <tr>\n",
       "      <th>2</th>\n",
       "      <td>Angola</td>\n",
       "      <td>AO</td>\n",
       "      <td>AGO</td>\n",
       "    </tr>\n",
       "    <tr>\n",
       "      <th>3</th>\n",
       "      <td>Argentina</td>\n",
       "      <td>AR</td>\n",
       "      <td>ARG</td>\n",
       "    </tr>\n",
       "    <tr>\n",
       "      <th>4</th>\n",
       "      <td>Armenia</td>\n",
       "      <td>AM</td>\n",
       "      <td>ARM</td>\n",
       "    </tr>\n",
       "  </tbody>\n",
       "</table>\n",
       "</div>"
      ],
      "text/plain": [
       "          Name ISO2 ISO3\n",
       "0  Afghanistan   AF  AFG\n",
       "1      Algeria   DZ  DZA\n",
       "2       Angola   AO  AGO\n",
       "3    Argentina   AR  ARG\n",
       "4      Armenia   AM  ARM"
      ]
     },
     "execution_count": 15,
     "metadata": {},
     "output_type": "execute_result"
    }
   ],
   "source": [
    "# read in country metadata\n",
    "metadata = pd.read_excel('../Plan-EO_Country_meta-data.xlsx')\n",
    "metadata = metadata[['Name', 'ISO2', 'ISO3']] # get the sections we need\n",
    "metadata.Name = metadata.Name.str.replace(' ', '_') # to match Name to the format of the Individual_country_data folder\n",
    "metadata.head()"
   ]
  },
  {
   "cell_type": "markdown",
   "id": "77f8490d-89b1-4c78-8456-3b64cfd19fbf",
   "metadata": {},
   "source": [
    "This loop may need to be updated, specifically the lines handling extraction of the desired URL (beginning with `tiff_urls = ...`) if the desired alias (see above) needs to be updated. I will provide a walkthrough of how exactly to determine the necessary changes below, for documentation purposes."
   ]
  },
  {
   "cell_type": "code",
   "execution_count": 14,
   "id": "07d2c854-d557-46ff-bff3-1bd108925228",
   "metadata": {
    "tags": []
   },
   "outputs": [
    {
     "name": "stdout",
     "output_type": "stream",
     "text": [
      "Burundi\n",
      "Cambodia\n",
      "Cameroon\n",
      "Cape_Verde\n",
      "Central_African_Republic\n",
      "Chad\n",
      "China\n",
      "Colombia\n",
      "Comoros\n",
      "Congo\n",
      "Costa_Rica\n",
      "Cote_d'Ivoire\n",
      "Cuba\n",
      "Democratic_Republic_of_Congo\n",
      "Djibouti\n",
      "Dominica\n",
      "Dominican_Republic\n",
      "Ecuador\n",
      "Egypt\n",
      "El_Salvador\n",
      "Equatorial_Guinea\n",
      "Eritrea\n",
      "Eswatini\n",
      "Ethiopia\n",
      "Fiji\n",
      "Gabon\n",
      "Gambia\n",
      "Georgia\n",
      "Ghana\n",
      "Grenada\n",
      "Guatemala\n",
      "Guinea\n",
      "Guinea-Bissau\n",
      "Guyana\n",
      "Haiti\n",
      "Honduras\n",
      "India\n",
      "Indonesia\n",
      "Iran\n",
      "Iraq\n",
      "Jamaica\n",
      "Jordan\n",
      "Kazakhstan\n",
      "Kenya\n",
      "Kiribati\n",
      "Kyrgyzstan\n",
      "Laos\n",
      "Lebanon\n",
      "Lesotho\n",
      "Liberia\n",
      "Libya\n",
      "Madagascar\n",
      "Malawi\n",
      "Malaysia\n",
      "Maldives\n",
      "Mali\n",
      "Marshall_Islands\n",
      "Mauritania\n",
      "Mauritius\n",
      "Mexico\n",
      "Micronesia\n",
      "Mongolia\n",
      "Morocco\n",
      "Mozambique\n",
      "Myanmar\n",
      "Namibia\n",
      "Nepal\n",
      "Nicaragua\n",
      "Niger\n",
      "Nigeria\n",
      "North_Korea\n",
      "Pakistan\n",
      "Palestine\n",
      "Panama\n",
      "Papua_New_Guinea\n",
      "Paraguay\n",
      "Peru\n",
      "Philippines\n",
      "Rwanda\n",
      "Saint_Lucia\n",
      "Saint_Vincent_and_the_Grenadines\n",
      "Samoa\n",
      "Sao_Tome_and_Principe\n",
      "Senegal\n",
      "Sierra_Leone\n",
      "Solomon_Islands\n",
      "Somalia\n",
      "South_Africa\n",
      "South_Sudan\n",
      "Sri_Lanka\n",
      "Sudan\n",
      "Suriname\n",
      "Syria\n",
      "Tajikistan\n",
      "Tanzania\n",
      "Thailand\n",
      "Timor-Leste\n",
      "Togo\n",
      "Tonga\n",
      "Tunisia\n",
      "Turkey\n",
      "Turkmenistan\n",
      "Tuvalu\n",
      "Uganda\n",
      "Uzbekistan\n",
      "Vanuatu\n",
      "Venezuela\n",
      "Vietnam\n",
      "Yemen\n",
      "Zambia\n",
      "Zimbabwe\n"
     ]
    }
   ],
   "source": [
    "# loop through every country\n",
    "for i in range(len(metadata)):\n",
    "    \n",
    "    # extract iso3 and country name\n",
    "    iso3 = metadata.loc[i,'ISO3']\n",
    "    country = metadata.loc[i,'Name']\n",
    "\n",
    "    # set query URL (we are using worldpop's REST API endpoint)\n",
    "    url = f'https://www.worldpop.org/rest/data/pop/{alias}?iso3={iso3}'\n",
    "\n",
    "    # load response and extract data\n",
    "    response = requests.get(url)\n",
    "    text = json.loads(response.text)\n",
    "    data = text['data']\n",
    "\n",
    "    # extract URL path to TIFF folder (note that this may change if the alias changes - potential for different file structure)\n",
    "    # but stable for now\n",
    "    tiff_urls = [item for item in data if item.get('popyear') == '2020'][0]['files']\n",
    "    tiff_url = [item for item in tiff_urls if item.endswith('.tif')][0]\n",
    "    \n",
    "    # get end path (name at which the extracted TIFF will be stored)\n",
    "    end_path = tiff_url.split('/')[-1]\n",
    "    # option to print end_path to track progress\n",
    "    # print(end_path)\n",
    "    \n",
    "    # set path to destination folder and retrieve TIFF file from data index, store in destination folder\n",
    "    path = f'../Individual_country_data/{iso3}_{country}/04_Population_density_data/World_pop/{end_path}'\n",
    "    urlretrieve(tiff_url, path)"
   ]
  },
  {
   "cell_type": "markdown",
   "id": "51cbecf2-1200-4e9f-8c0f-fa68f46419f9",
   "metadata": {},
   "source": [
    "## Troubleshooting Code: see below\n",
    "\n",
    "Everything below this line does not need to be run unless there is an issue with the above. Unfortunately, whenever there is a more recent release of population density data, this script will need to be modified, so if it breaks after changing the alias, I am hoping this will be a useful guide to fixing it."
   ]
  },
  {
   "cell_type": "code",
   "execution_count": 4,
   "id": "389288a1-cc7d-47e9-985b-cd0ab159eca3",
   "metadata": {
    "tags": []
   },
   "outputs": [
    {
     "name": "stdout",
     "output_type": "stream",
     "text": [
      "dict_keys(['data'])\n"
     ]
    }
   ],
   "source": [
    "# Step 1: call a single example from the API\n",
    "\n",
    "# using example country Nigeria\n",
    "ts_alias = 'wpic1km'\n",
    "ts_iso3 = 'NGA'\n",
    "\n",
    "ts_url = f'https://www.worldpop.org/rest/data/pop/{ts_alias}?iso3={ts_iso3}'\n",
    "\n",
    "ts_response = requests.get(ts_url)\n",
    "ts_text = json.loads(ts_response.text)\n",
    "print(ts_text.keys())"
   ]
  },
  {
   "cell_type": "code",
   "execution_count": 6,
   "id": "4516c913-d9b9-4e11-a0a8-dcd6db4d5c8e",
   "metadata": {
    "tags": []
   },
   "outputs": [
    {
     "name": "stdout",
     "output_type": "stream",
     "text": [
      "{'id': '32948', 'title': 'The spatial distribution of population in 2000 Nigeria', 'desc': 'Estimated total number of people per grid-cell. The dataset is available to download in Geotiff and ASCII XYZ format at a resolution of 30 arc (approximately 1km at the equator). The projection is Geographic Coordinate System, WGS84. The units are number of people per pixel. The mapping approach is Random Forest-based dasymetric redistribution.', 'doi': '10.5258/SOTON/WP00670', 'date': '2020-06-22', 'popyear': '2000', 'citation': 'WorldPop (www.worldpop.org - School of Geography and Environmental Science, University of Southampton; Department of Geography and Geosciences, University of Louisville; Departement de Geographie, Universite de Namur) and Center for International Earth Science Information Network (CIESIN), Columbia University (2018). Global High Resolution Population Denominators Project - Funded by The Bill and Melinda Gates Foundation (OPP1134076). https://dx.doi.org/10.5258/SOTON/WP00670', 'data_file': 'GIS/Population/Global_2000_2020_1km/2000/NGA', 'archive': 'N', 'public': 'Y', 'source': 'WorldPop, University of Southampton, UK', 'data_format': 'Geotiff', 'author_email': 'info@worldpop.org', 'author_name': 'WorldPop', 'maintainer_name': 'WorldPop', 'maintainer_email': 'info@worldpop.org', 'project': 'Population Counts', 'category': 'Unconstrained individual countries 2000-2020  ( 1km resolution )', 'gtype': 'Population', 'continent': 'Africa', 'country': 'Nigeria', 'iso3': 'NGA', 'files': ['https://data.worldpop.org/GIS/Population/Global_2000_2020_1km/2000/NGA/nga_ppp_2000_1km_ASCII_XYZ.zip', 'https://data.worldpop.org/GIS/Population/Global_2000_2020_1km/2000/NGA/nga_ppp_2000_1km_Aggregated.tif'], 'url_img': 'https://hub.worldpop.org/tabs/gdata/img/32948/nga_ppp_1km_2000_Image.png', 'organisation': 'WorldPop, University of Southampton, UK, hub.worldpop.org', 'license': 'https://hub.worldpop.org/data/licence.txt', 'url_summary': 'https://hub.worldpop.org/geodata/summary?id=32948'}\n"
     ]
    }
   ],
   "source": [
    "# the above shows that everything in the response is contained in a dictionary called 'data'\n",
    "# now, we can look at the first entry\n",
    "\n",
    "ts_data = ts_text['data']\n",
    "print(ts_data[0])"
   ]
  },
  {
   "cell_type": "code",
   "execution_count": 10,
   "id": "5bbb4829-9012-4028-83d0-234c2b8b1647",
   "metadata": {
    "tags": []
   },
   "outputs": [
    {
     "name": "stdout",
     "output_type": "stream",
     "text": [
      "['2000', '2001', '2002', '2003', '2004', '2005', '2006', '2007', '2008', '2009', '2010', '2011', '2012', '2013', '2014', '2015', '2016', '2017', '2018', '2019', '2020'] \n",
      "\n",
      "2020\n"
     ]
    }
   ],
   "source": [
    "# In this case, each entry has a string value for the key 'popyear' which tells us which year the data is for\n",
    "# each entry also has a list value for the key 'files' that directs us to the available download links\n",
    "\n",
    "# find the newest available file, in GeoTIFF format\n",
    "print([x['popyear'] for x in ts_data], '\\n')\n",
    "print(max([x['popyear'] for x in ts_data]))"
   ]
  },
  {
   "cell_type": "code",
   "execution_count": 12,
   "id": "10db7565-7d12-47d4-b35f-8f34d2d3135a",
   "metadata": {
    "tags": []
   },
   "outputs": [
    {
     "name": "stdout",
     "output_type": "stream",
     "text": [
      "['https://data.worldpop.org/GIS/Population/Global_2000_2020_1km/2020/NGA/nga_ppp_2020_1km_Aggregated.tif', 'https://data.worldpop.org/GIS/Population/Global_2000_2020_1km/2020/NGA/nga_ppp_2020_1km_ASCII_XYZ.zip']\n"
     ]
    }
   ],
   "source": [
    "# This is a good way to see all the available years, and the most recent year available\n",
    "\n",
    "# Now, extract files for most recent available year:\n",
    "ts_tiff_urls = [item for item in ts_data if item.get('popyear') == '2020'][0]['files']\n",
    "print(ts_tiff_urls)"
   ]
  },
  {
   "cell_type": "code",
   "execution_count": 14,
   "id": "6da8e8e3-0703-4b9c-b4a4-c7839923200e",
   "metadata": {
    "tags": []
   },
   "outputs": [
    {
     "name": "stdout",
     "output_type": "stream",
     "text": [
      "https://data.worldpop.org/GIS/Population/Global_2000_2020_1km/2020/NGA/nga_ppp_2020_1km_Aggregated.tif\n"
     ]
    }
   ],
   "source": [
    "# here, we see that there is a ZIP file and a TIF file. We want the TIF file, so we further limit our search\n",
    "\n",
    "ts_tiff_url = [item for item in ts_tiff_urls if item.endswith('.tif')][0]\n",
    "print(ts_tiff_url)"
   ]
  },
  {
   "cell_type": "markdown",
   "id": "061d5d66-e5a9-4168-87a0-2a83af596e48",
   "metadata": {},
   "source": [
    "The above step-by-step walkthrough mirrors the logic used in the main loop. If the main loop breaks at any point during a data redownload, follow this walkthrough to figure out precisely where it is breaking. All the information shown above will likely remain even if the response format changes, so look through an individual data cell to determine the new names. So, say `'popyear'` changed to `'year'` and `'files'` changed to `'outputs'` and the newest year available was 2025 in an updated version - the new code would need to reflect that, like:\n",
    "\n",
    "`tiff_urls = [item for item in data if item.get('year') == '2025'][0]['outputs']`\n",
    "\n",
    "`tiff_url = [item for item in tiff_urls if item.endswith('.tif')][0]`"
   ]
  }
 ],
 "metadata": {
  "kernelspec": {
   "display_name": "Python 3 (ipykernel)",
   "language": "python",
   "name": "python3"
  },
  "language_info": {
   "codemirror_mode": {
    "name": "ipython",
    "version": 3
   },
   "file_extension": ".py",
   "mimetype": "text/x-python",
   "name": "python",
   "nbconvert_exporter": "python",
   "pygments_lexer": "ipython3",
   "version": "3.11.4"
  }
 },
 "nbformat": 4,
 "nbformat_minor": 5
}
