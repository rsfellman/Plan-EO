{
 "cells": [
  {
   "cell_type": "code",
   "execution_count": 2,
   "id": "448fd965-eca6-4e63-8f99-05ddb615481f",
   "metadata": {
    "tags": []
   },
   "outputs": [
    {
     "name": "stdout",
     "output_type": "stream",
     "text": [
      "/sfs/ceph/standard/Plan-EO_Storage/Capstone-25\n"
     ]
    }
   ],
   "source": [
    "# import required packages\n",
    "\n",
    "import os\n",
    "import pandas as pd\n",
    "import numpy as np\n",
    "import requests\n",
    "import time\n",
    "import datetime\n",
    "import geopandas\n",
    "from shapely.geometry import Point\n",
    "\n",
    "# read in country metadata\n",
    "print(os.getcwd())\n",
    "\n",
    "metadata = pd.read_excel('../Plan-EO_Country_meta-data.xlsx')"
   ]
  },
  {
   "cell_type": "code",
   "execution_count": 7,
   "id": "1bd7193c-5a49-4327-8ca9-2ac0b7eda802",
   "metadata": {
    "tags": []
   },
   "outputs": [
    {
     "data": {
      "text/html": [
       "<div>\n",
       "<style scoped>\n",
       "    .dataframe tbody tr th:only-of-type {\n",
       "        vertical-align: middle;\n",
       "    }\n",
       "\n",
       "    .dataframe tbody tr th {\n",
       "        vertical-align: top;\n",
       "    }\n",
       "\n",
       "    .dataframe thead th {\n",
       "        text-align: right;\n",
       "    }\n",
       "</style>\n",
       "<table border=\"1\" class=\"dataframe\">\n",
       "  <thead>\n",
       "    <tr style=\"text-align: right;\">\n",
       "      <th></th>\n",
       "      <th>Name</th>\n",
       "      <th>ISO2</th>\n",
       "      <th>ISO3</th>\n",
       "    </tr>\n",
       "  </thead>\n",
       "  <tbody>\n",
       "    <tr>\n",
       "      <th>0</th>\n",
       "      <td>Afghanistan</td>\n",
       "      <td>AF</td>\n",
       "      <td>AFG</td>\n",
       "    </tr>\n",
       "    <tr>\n",
       "      <th>1</th>\n",
       "      <td>Algeria</td>\n",
       "      <td>DZ</td>\n",
       "      <td>DZA</td>\n",
       "    </tr>\n",
       "    <tr>\n",
       "      <th>2</th>\n",
       "      <td>Angola</td>\n",
       "      <td>AO</td>\n",
       "      <td>AGO</td>\n",
       "    </tr>\n",
       "    <tr>\n",
       "      <th>3</th>\n",
       "      <td>Argentina</td>\n",
       "      <td>AR</td>\n",
       "      <td>ARG</td>\n",
       "    </tr>\n",
       "    <tr>\n",
       "      <th>4</th>\n",
       "      <td>Armenia</td>\n",
       "      <td>AM</td>\n",
       "      <td>ARM</td>\n",
       "    </tr>\n",
       "  </tbody>\n",
       "</table>\n",
       "</div>"
      ],
      "text/plain": [
       "          Name ISO2 ISO3\n",
       "0  Afghanistan   AF  AFG\n",
       "1      Algeria   DZ  DZA\n",
       "2       Angola   AO  AGO\n",
       "3    Argentina   AR  ARG\n",
       "4      Armenia   AM  ARM"
      ]
     },
     "execution_count": 7,
     "metadata": {},
     "output_type": "execute_result"
    }
   ],
   "source": [
    "metadata = metadata[['Name', 'ISO2', 'ISO3']]\n",
    "metadata.Name = metadata.Name.str.replace(' ', '_')\n",
    "metadata.head()"
   ]
  },
  {
   "cell_type": "code",
   "execution_count": 8,
   "id": "a6efae7a-dd27-4889-bea7-8cc54d06e30c",
   "metadata": {
    "tags": []
   },
   "outputs": [],
   "source": [
    "class APIRateLimitError(Exception):\n",
    "    def __init__(self, message):\n",
    "        super().__init__(message)"
   ]
  },
  {
   "cell_type": "code",
   "execution_count": 9,
   "id": "b1ea290f-1f59-4897-85f8-5fb51ffa06fe",
   "metadata": {
    "tags": []
   },
   "outputs": [],
   "source": [
    "# we need this convert_to_csv() function in both scripts, it handles converting json to pandas DataFrame that can be saved as CSV\n",
    "\n",
    "def convert_to_csv(settlements_json):\n",
    "    settlements = []\n",
    "    \n",
    "    if not settlements_json['elements']:\n",
    "        return None\n",
    "    for element in settlements_json['elements']:\n",
    "        osm_id = element['id']\n",
    "        name = element['tags'].get('name')\n",
    "        place_type = element['tags'].get('place')\n",
    "        lat = element.get('lat')\n",
    "        lon = element.get('lon')\n",
    "        population = element['tags'].get('population')\n",
    "        \n",
    "        settlements.append({'osm_id': osm_id, 'name': name, 'place': place_type, 'latitude': lat, 'longitude': lon, 'population': population})\n",
    "    \n",
    "    # Convert to DataFrame\n",
    "    df = pd.DataFrame(settlements)\n",
    "    df.columns = ['osm_id', 'name', 'place', 'lat', 'lon', 'population']\n",
    "    \n",
    "    return df\n",
    "\n",
    "\n",
    "\n",
    "# this is the function to update the CSVs every month\n",
    "# this allows to variably set days (if it's been longer or shorter)\n",
    "# but once we determine the schedule we will code it ourselves (probably with a buffer of a couple days, I'm thinking 10-15 extra)\n",
    "\n",
    "def update_settlements(country_code, csv_path, cushion=5):\n",
    "    \n",
    "    # get time length that we want\n",
    "    \n",
    "    # check when file was last modified, convert to datetime\n",
    "    last_mod = os.path.getmtime(csv_path)\n",
    "    dt_last_mod = datetime.datetime.fromtimestamp(last_mod)\n",
    "    \n",
    "    # this is how far back we'll be searching for edits - default is 5 day overlap between updates, but can be changed\n",
    "    since = dt_last_mod - datetime.timedelta(days=cushion)\n",
    "    \n",
    "    # write Overpass API query\n",
    "    query = f\"\"\"\n",
    "    [out:json][timeout:300];\n",
    "        area[\"ISO3166-1\"=\"{country_code}\"]->.country;\n",
    "    (\n",
    "      node[\"place\"](area.country)(newer:\"{since:%Y-%m-%d}T00:00:00Z\");\n",
    "      way[\"place\"](area.country)(newer:\"{since:%Y-%m-%d}T00:00:00Z\");\n",
    "      relation[\"place\"](area.country)(newer:\"{since:%Y-%m-%d}T00:00:00Z\");\n",
    "    );\n",
    "    out center;\n",
    "    \"\"\"\n",
    "    \n",
    "    # headers (to announce ourselves to the API as friends) but they track the IP address anyways\n",
    "    \n",
    "    headers = {\n",
    "        'User-Agent': 'Plan-EO_Pipeline/1.1 (cwp5xyj@virginia.edu)'\n",
    "    }\n",
    "    \n",
    "    \n",
    "    # Overpass API URL\n",
    "    url = 'http://overpass-api.de/api/interpreter'\n",
    "    \n",
    "    # send request\n",
    "    response = requests.get(url, params={'data': query}, headers = headers)\n",
    "    \n",
    "    # check for errors\n",
    "    if response.status_code != 200:\n",
    "        raise APIRateLimitError(f'Error {response.status_code}: {response.text}')\n",
    "        \n",
    "    data_to_update = response.json() \n",
    "    \n",
    "    new_df = convert_to_csv(data_to_update)\n",
    "    \n",
    "    if new_df is None:\n",
    "        raise Exception(f'No updates needed to {csv_path}')\n",
    "    \n",
    "    # call in path\n",
    "        \n",
    "    if os.path.exists(csv_path):\n",
    "        existing_df = pd.read_csv(csv_path)\n",
    "    else:\n",
    "        print(f'{country_code} seems to be missing a CSV file in our system. Please initialize a fresh CSV before running the update code.')\n",
    "        return None\n",
    "\n",
    "    updated_df = pd.concat([existing_df[~existing_df['osm_id'].isin(new_df['osm_id'])], new_df], ignore_index=True) # bit slow but we will see\n",
    "\n",
    "    # Save back to CSV\n",
    "    updated_df.to_csv(csv_path, index=False, encoding='utf-8')\n",
    "    print(f'CSV updated successfully: {csv_path}, rows updated = {len(new_df)}')\n",
    "    return updated_df\n",
    "\n",
    "def make_shapefile(iso3, country, new_df):\n",
    "    \n",
    "    to_convert = new_df.dropna(axis=0, subset = ['lat', 'lon'])\n",
    "    \n",
    "    geometry = [Point(xy) for xy in zip(to_convert['lon'], to_convert['lat'])]\n",
    "    gdf = geopandas.GeoDataFrame(to_convert, geometry=geometry, crs=\"EPSG:4326\")\n",
    "    \n",
    "    shp_path = f'output_dir_test/{iso3}_{country}/02_Settlement_data/{iso3}_populated_places_points.shp'\n",
    "    gdf.to_file(shp_path, driver='ESRI Shapefile')\n",
    "    print(f'Shapefile updated successfully: {shp_path}')"
   ]
  },
  {
   "cell_type": "code",
   "execution_count": 12,
   "id": "dfc6dcd6-5e38-4bd9-809d-bd8e64e769f8",
   "metadata": {
    "tags": []
   },
   "outputs": [
    {
     "name": "stdout",
     "output_type": "stream",
     "text": [
      "CSV updated successfully: output_dir_test/AFG_Afghanistan/02_Settlement_data/AFG_populated_places_points.csv, rows updated = 4\n",
      "Shapefile updated successfully: output_dir_test/AFG_Afghanistan/02_Settlement_data/AFG_populated_places_points.shp\n",
      "CSV updated successfully: output_dir_test/DZA_Algeria/02_Settlement_data/DZA_populated_places_points.csv, rows updated = 25\n",
      "Shapefile updated successfully: output_dir_test/DZA_Algeria/02_Settlement_data/DZA_populated_places_points.shp\n",
      "CSV updated successfully: output_dir_test/AGO_Angola/02_Settlement_data/AGO_populated_places_points.csv, rows updated = 243\n",
      "Shapefile updated successfully: output_dir_test/AGO_Angola/02_Settlement_data/AGO_populated_places_points.shp\n"
     ]
    },
    {
     "name": "stderr",
     "output_type": "stream",
     "text": [
      "/tmp/ipykernel_682249/618977441.py:80: DtypeWarning: Columns (5) have mixed types. Specify dtype option on import or set low_memory=False.\n",
      "  existing_df = pd.read_csv(csv_path)\n"
     ]
    },
    {
     "name": "stdout",
     "output_type": "stream",
     "text": [
      "CSV updated successfully: output_dir_test/ARG_Argentina/02_Settlement_data/ARG_populated_places_points.csv, rows updated = 70\n",
      "Shapefile updated successfully: output_dir_test/ARG_Argentina/02_Settlement_data/ARG_populated_places_points.shp\n",
      "CSV updated successfully: output_dir_test/ARM_Armenia/02_Settlement_data/ARM_populated_places_points.csv, rows updated = 17\n",
      "Shapefile updated successfully: output_dir_test/ARM_Armenia/02_Settlement_data/ARM_populated_places_points.shp\n",
      "CSV updated successfully: output_dir_test/AZE_Azerbaijan/02_Settlement_data/AZE_populated_places_points.csv, rows updated = 131\n",
      "Shapefile updated successfully: output_dir_test/AZE_Azerbaijan/02_Settlement_data/AZE_populated_places_points.shp\n",
      "CSV updated successfully: output_dir_test/BGD_Bangladesh/02_Settlement_data/BGD_populated_places_points.csv, rows updated = 12\n",
      "Shapefile updated successfully: output_dir_test/BGD_Bangladesh/02_Settlement_data/BGD_populated_places_points.shp\n",
      "No updates needed to output_dir_test/BLZ_Belize/02_Settlement_data/BLZ_populated_places_points.csv\n",
      "CSV updated successfully: output_dir_test/BEN_Benin/02_Settlement_data/BEN_populated_places_points.csv, rows updated = 255\n",
      "Shapefile updated successfully: output_dir_test/BEN_Benin/02_Settlement_data/BEN_populated_places_points.shp\n",
      "CSV updated successfully: output_dir_test/BTN_Bhutan/02_Settlement_data/BTN_populated_places_points.csv, rows updated = 1\n",
      "Shapefile updated successfully: output_dir_test/BTN_Bhutan/02_Settlement_data/BTN_populated_places_points.shp\n",
      "CPU times: user 2.31 s, sys: 409 ms, total: 2.72 s\n",
      "Wall time: 2min 22s\n"
     ]
    }
   ],
   "source": [
    "%%time\n",
    "# for i in range(len(metadata)):\n",
    "for i in range(10):    \n",
    "    \n",
    "    # extract necessary metadata - index is clean, so \"i\" works fine\n",
    "    iso2 = metadata.loc[i, 'ISO2']\n",
    "    iso3 = metadata.loc[i,'ISO3']\n",
    "    country = metadata.loc[i,'Name']\n",
    "\n",
    "    # create path\n",
    "    path = f'../Individual_country_data/{iso3}_{country}/02_Settlement_data/{iso3}_populated_places_points.csv'\n",
    "    \n",
    "    try:\n",
    "        new_df = update_settlements(iso2, path)\n",
    "        # print(new_df)\n",
    "        make_shapefile(iso3, country, new_df)\n",
    "    except Exception as e:\n",
    "        print(e)\n",
    "        pass\n",
    "    except APIRateLimitError as e:\n",
    "        print('Initiating 5 minute buffer time to prevent rate limiting... updates will resume shortly.')\n",
    "        time.sleep(300)\n",
    "        new_df = update_settlements(iso2, path)\n",
    "        make_shapefile(iso3, country, new_df)\n",
    "    \n",
    "    # should probably introduce a sleep() function here because this will still be expensive\n",
    "    # time.sleep(5)\n",
    "    "
   ]
  }
 ],
 "metadata": {
  "kernelspec": {
   "display_name": "Python 3 (ipykernel)",
   "language": "python",
   "name": "python3"
  },
  "language_info": {
   "codemirror_mode": {
    "name": "ipython",
    "version": 3
   },
   "file_extension": ".py",
   "mimetype": "text/x-python",
   "name": "python",
   "nbconvert_exporter": "python",
   "pygments_lexer": "ipython3",
   "version": "3.11.4"
  }
 },
 "nbformat": 4,
 "nbformat_minor": 5
}
