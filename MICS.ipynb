{
 "cells": [
  {
   "cell_type": "markdown",
   "id": "28fa95c3-b5d8-46e0-a6f3-fe03d985c2dd",
   "metadata": {},
   "source": [
    "# MICS Download\n",
    "This notebook will call the MICS_module and use the functions to download and sort new MICS data."
   ]
  },
  {
   "cell_type": "markdown",
   "id": "bca341d0-a583-4747-aa54-ce5bb2f6dd5f",
   "metadata": {
    "tags": []
   },
   "source": [
    "# Instructions for Individual Survey Download"
   ]
  },
  {
   "cell_type": "markdown",
   "id": "8a4a713e-b871-4b22-bd82-0ddac9f323ae",
   "metadata": {},
   "source": [
    "1. When a new MICS survey is avaialable, go to mics survey site MICS survey site. Click the upload button and select CSV next to the grayed-out \"DOWNLOAD MICS DATASETS\" button to get the most up to date metadata.\n",
    "\n",
    "2. Select the correct survey round, the appropriate country and select MICS as the datatype. Download the survey set.\n",
    "\n",
    "3. If avaialable download the GIS data as well. \n",
    "\n",
    "4. Import the `MICS_module` into you notebook.\n",
    "\n",
    "    \n",
    "    **NOTE** The `MICS_module` is made to sort *bulk* mics datasets. If you download only one dataset from a country this function will not work and it would be best to manually sort that into the appropriate folder\n",
    "\n",
    "    ```python\n",
    "    import MICS_module\n",
    "    ``` "
   ]
  },
  {
   "cell_type": "markdown",
   "id": "9f144eed-d5c0-4c8b-adec-97821ad20831",
   "metadata": {
    "tags": []
   },
   "source": [
    "5. Use `MICS_module` to process the downloaded metadata csv from step 3:\n",
    "\n",
    "    ```python\n",
    "    metadata = MICS_module.process_mics_metadata('path_to_metadata', 'MICS/ISO3_country_codes.csv')\n",
    "    ``` "
   ]
  },
  {
   "cell_type": "markdown",
   "id": "279182de-da54-4a43-96af-e05987cd99fa",
   "metadata": {},
   "source": [
    "6.  Check for missing values in metadata and fill in as needed. There shouldn't be any missing values right now, but as country names change, there might be.\n",
    "    \n",
    "    The MICS metadata is organized as follows: \n",
    "    - `round`: The MICS round (e.g., `\"MICS6\"`).\n",
    "    - `round_num`: The numeric representation of the MICS round (e.g., `6`).\n",
    "    - `country_x`: The original country name from the MICS metadata.\n",
    "    - `country_code`: The ISO3 country code.\n",
    "    - `year`: The year of the survey.\n",
    "    - `save_name`: The standardized country name used for saving files.\n",
    "    - `standardized`: The standardized country name for merging and sorting."
   ]
  },
  {
   "cell_type": "markdown",
   "id": "85b32762-de60-48eb-8f52-7535fcbb4fe4",
   "metadata": {},
   "source": [
    "7. Use `MICS_module` to extract and sort the downloaded zip file.\n",
    "\n",
    "    ```python\n",
    "    MICS_module.extract_single_zipped_survey('zip/file/path.zip', mics_metadata, survey_round_number)\n",
    "    ```"
   ]
  },
  {
   "cell_type": "markdown",
   "id": "319f89f2-0d68-4c97-a7ce-278189fbc8d8",
   "metadata": {
    "tags": []
   },
   "source": [
    "8. Check printed output log to make sure no errors occured."
   ]
  },
  {
   "cell_type": "markdown",
   "id": "fa46a689-7b03-4115-b4ea-5cd7f091ba0f",
   "metadata": {
    "jp-MarkdownHeadingCollapsed": true,
    "tags": []
   },
   "source": [
    "# Instructions for Bulk Download"
   ]
  },
  {
   "cell_type": "markdown",
   "id": "38c19aca-6485-43c9-ad8d-c5db6046f219",
   "metadata": {
    "tags": []
   },
   "source": [
    "1. When a new MICS survey is avaialable, go to mics survey site [MICS survey site](https://mics.unicef.org/surveys). Click the upload button and select CSV next to the grayed-out \"DOWNLOAD MICS DATASETS\" button to get the most up to date metadata.\n",
    "\n",
    "2. Select the correct survey round, the appropriate region and select **MICS** as the datatype. Click \"DOWNLOAD MICS DATASETS\".\n",
    "\n",
    "\n",
    "\n",
    "3. Import the `MICS_module` into you notebook.\n",
    "\n",
    "    \n",
    "    **NOTE** The `MICS_module` is made to sort *bulk* mics datasets. If you download only one dataset from a country this function will not work and it would be best to manually sort that into the appropriate folder\n",
    "\n",
    "    ```python\n",
    "    import MICS_module\n",
    "    ``` \n"
   ]
  },
  {
   "cell_type": "markdown",
   "id": "e7cd2141-9920-4642-b0d8-337839f32022",
   "metadata": {},
   "source": [
    "4. Use `MICS_module` to process the downloaded metadata csv from step 3:\n",
    "\n",
    "    ```python\n",
    "    metadata = MICS_module.process_mics_metadata('path_to_metadata', 'MICS/ISO3_country_codes.csv')\n",
    "    ``` "
   ]
  },
  {
   "cell_type": "markdown",
   "id": "ecbf8e28-3526-4c94-920c-3f4f012fbd6c",
   "metadata": {
    "tags": []
   },
   "source": [
    "5.  Check for missing values in metadata and fill in as needed. There shouldn't be any missing values right now, but as country names change, there might be.\n",
    "    \n",
    "    The MICS metadata is organized as follows: \n",
    "    - `round`: The MICS round (e.g., `\"MICS6\"`).\n",
    "    - `round_num`: The numeric representation of the MICS round (e.g., `6`).\n",
    "    - `country_x`: The original country name from the MICS metadata.\n",
    "    - `country_code`: The ISO3 country code.\n",
    "    - `year`: The year of the survey.\n",
    "    - `save_name`: The standardized country name used for saving files.\n",
    "    - `standardized`: The standardized country name for merging and sorting.\n"
   ]
  },
  {
   "cell_type": "markdown",
   "id": "71df2245-cc44-4a93-9c19-fe7e402c9528",
   "metadata": {},
   "source": [
    "6. Use `MICS_module` to sort the zipped datasets downloaded in step 2:  \n",
    "\n",
    "    ```python \n",
    "    MICS_module.extract_and_save_zipped_files('log/file/path.txt', 'zip/file/path/', mics_metadata, survey_round_number) \n",
    "    ```"
   ]
  },
  {
   "cell_type": "markdown",
   "id": "63990ee0-49fc-468b-b0b8-746bef5949d0",
   "metadata": {},
   "source": [
    "7. Use `MICS_module` to look at possible errors  \n",
    "    \n",
    "    ```python\n",
    "    log = MICS_module.parse_log_to_df('log/file/path.txt')\n",
    "    ```\n",
    "\n",
    "    Sort to see failures and where manual checks are advised:\n",
    "    \n",
    "    ```python\n",
    "    log[(log['manual_check_advised'].notnull()) | (log['success'] == False)]\n",
    "    ```\n",
    "    \n",
    "    To check full specific failure reasons : \n",
    "    \n",
    "    ```python \n",
    "    log[log['success'] == False]['failure_reason'][row_num]\n",
    "    ```\n",
    "    \n",
    "    It is also advisable to check for missing data in the success columns as unexpected edge cases can cause issues there.\n",
    "    \n",
    "    The log dataframe has the following columns: \n",
    "                \n",
    "    - `zip_file`: The name of the zip file being processed.\n",
    "    - `normalized_country`: The normalized country name extracted from the log.\n",
    "    - `standardized_country`: The standardized country name after matching with metadata.\n",
    "    - `metadata_row`: The metadata row associated with the country.\n",
    "    - `extracted_country`: The country name extracted from the file.\n",
    "    - `metadata_rows_found`: The number of metadata rows found for the country.\n",
    "    - `available_years`: The years available for the dataset, extracted from the log.\n",
    "    - `unzipping_to`: The directory where the zip file was extracted.\n",
    "    - `saved_to`: The directory where the processed files were saved.\n",
    "    - `success`: A boolean indicating whether the processing was successful.\n",
    "    - `failure_reason`: A description of the reason for failure, if applicable.\n",
    "    - `manual_check_advised`: Notes indicating if manual intervention is required. This can be one of:\n",
    "        - NaN\n",
    "        - \"Manual check advised\"\n",
    "        - \"Fuzzy match used\" — in this case, check the `saved_to` output manually to ensure correctness."
   ]
  },
  {
   "cell_type": "markdown",
   "id": "78914776-a461-4201-8947-54350d1fb8e0",
   "metadata": {
    "tags": []
   },
   "source": [
    "# Code Runthrough For MICS Rounds 2-6"
   ]
  },
  {
   "cell_type": "markdown",
   "id": "9b2df850-12f3-455c-ba55-86d75d74400c",
   "metadata": {
    "jp-MarkdownHeadingCollapsed": true,
    "tags": []
   },
   "source": [
    "## Install packages and Import MICS_module"
   ]
  },
  {
   "cell_type": "code",
   "execution_count": null,
   "id": "ce4b34e2",
   "metadata": {},
   "outputs": [
    {
     "name": "stdout",
     "output_type": "stream",
     "text": [
      "Defaulting to user installation because normal site-packages is not writeable\n",
      "Collecting rapidfuzz\n",
      "  Downloading rapidfuzz-3.13.0-cp311-cp311-manylinux_2_17_x86_64.manylinux2014_x86_64.whl.metadata (12 kB)\n",
      "Downloading rapidfuzz-3.13.0-cp311-cp311-manylinux_2_17_x86_64.manylinux2014_x86_64.whl (3.1 MB)\n",
      "\u001b[2K   \u001b[90m━━━━━━━━━━━━━━━━━━━━━━━━━━━━━━━━━━━━━━━━\u001b[0m \u001b[32m3.1/3.1 MB\u001b[0m \u001b[31m56.5 MB/s\u001b[0m eta \u001b[36m0:00:00\u001b[0m:00:01\u001b[0m\n",
      "\u001b[?25hInstalling collected packages: rapidfuzz\n",
      "Successfully installed rapidfuzz-3.13.0\n"
     ]
    }
   ],
   "source": [
    "#!pip install pycountry\n",
    "#!pip install unidecode\n",
    "#!pip install rapidfuzz"
   ]
  },
  {
   "cell_type": "code",
   "execution_count": 1,
   "id": "5ddc1ac1",
   "metadata": {
    "tags": []
   },
   "outputs": [],
   "source": [
    "#import mics module\n",
    "import MICS_module"
   ]
  },
  {
   "cell_type": "markdown",
   "id": "d98b3c87-b87c-443c-8b8a-014d5f2be1ea",
   "metadata": {
    "jp-MarkdownHeadingCollapsed": true,
    "tags": []
   },
   "source": [
    "## Process Metadata"
   ]
  },
  {
   "cell_type": "code",
   "execution_count": 2,
   "id": "c1356024",
   "metadata": {
    "tags": []
   },
   "outputs": [],
   "source": [
    "#process mics metadata\n",
    "metadata = MICS_module.process_mics_metadata('MICS/mics_surveys_catalogue.csv', 'MICS/ISO3_country_codes.csv')"
   ]
  },
  {
   "cell_type": "code",
   "execution_count": 3,
   "id": "686e0a68",
   "metadata": {
    "tags": []
   },
   "outputs": [
    {
     "data": {
      "text/html": [
       "<div>\n",
       "<style scoped>\n",
       "    .dataframe tbody tr th:only-of-type {\n",
       "        vertical-align: middle;\n",
       "    }\n",
       "\n",
       "    .dataframe tbody tr th {\n",
       "        vertical-align: top;\n",
       "    }\n",
       "\n",
       "    .dataframe thead th {\n",
       "        text-align: right;\n",
       "    }\n",
       "</style>\n",
       "<table border=\"1\" class=\"dataframe\">\n",
       "  <thead>\n",
       "    <tr style=\"text-align: right;\">\n",
       "      <th></th>\n",
       "      <th>round</th>\n",
       "      <th>round_num</th>\n",
       "      <th>country_x</th>\n",
       "      <th>country_code</th>\n",
       "      <th>year</th>\n",
       "      <th>save_name</th>\n",
       "      <th>standardized</th>\n",
       "    </tr>\n",
       "  </thead>\n",
       "  <tbody>\n",
       "    <tr>\n",
       "      <th>0</th>\n",
       "      <td>MICS7</td>\n",
       "      <td>7</td>\n",
       "      <td>Viet Nam</td>\n",
       "      <td>VNM</td>\n",
       "      <td>2027</td>\n",
       "      <td>Vietnam</td>\n",
       "      <td>Viet Nam</td>\n",
       "    </tr>\n",
       "    <tr>\n",
       "      <th>1</th>\n",
       "      <td>MICS7</td>\n",
       "      <td>7</td>\n",
       "      <td>Armenia</td>\n",
       "      <td>ARM</td>\n",
       "      <td>2026</td>\n",
       "      <td>Armenia</td>\n",
       "      <td>Armenia</td>\n",
       "    </tr>\n",
       "    <tr>\n",
       "      <th>2</th>\n",
       "      <td>MICS7</td>\n",
       "      <td>7</td>\n",
       "      <td>Tuvalu</td>\n",
       "      <td>TUV</td>\n",
       "      <td>2026</td>\n",
       "      <td>Tuvalu</td>\n",
       "      <td>Tuvalu</td>\n",
       "    </tr>\n",
       "    <tr>\n",
       "      <th>3</th>\n",
       "      <td>MICS7</td>\n",
       "      <td>7</td>\n",
       "      <td>Fiji</td>\n",
       "      <td>FJI</td>\n",
       "      <td>2026</td>\n",
       "      <td>Fiji</td>\n",
       "      <td>Fiji</td>\n",
       "    </tr>\n",
       "    <tr>\n",
       "      <th>4</th>\n",
       "      <td>MICS7</td>\n",
       "      <td>7</td>\n",
       "      <td>Kiribati</td>\n",
       "      <td>KIR</td>\n",
       "      <td>2026</td>\n",
       "      <td>Kiribati</td>\n",
       "      <td>Kiribati</td>\n",
       "    </tr>\n",
       "  </tbody>\n",
       "</table>\n",
       "</div>"
      ],
      "text/plain": [
       "   round  round_num country_x country_code  year save_name standardized\n",
       "0  MICS7          7  Viet Nam          VNM  2027   Vietnam     Viet Nam\n",
       "1  MICS7          7   Armenia          ARM  2026   Armenia      Armenia\n",
       "2  MICS7          7    Tuvalu          TUV  2026    Tuvalu       Tuvalu\n",
       "3  MICS7          7      Fiji          FJI  2026      Fiji         Fiji\n",
       "4  MICS7          7  Kiribati          KIR  2026  Kiribati     Kiribati"
      ]
     },
     "execution_count": 3,
     "metadata": {},
     "output_type": "execute_result"
    }
   ],
   "source": [
    "#view metadata\n",
    "metadata.head()"
   ]
  },
  {
   "cell_type": "markdown",
   "id": "d4a4243e-613d-4815-8177-dfb59f41f346",
   "metadata": {
    "tags": []
   },
   "source": [
    "## Run MICS Extract and Save Files"
   ]
  },
  {
   "cell_type": "markdown",
   "id": "0f9cc085-65e2-49d9-b02e-a418fa5b723a",
   "metadata": {
    "jp-MarkdownHeadingCollapsed": true,
    "tags": []
   },
   "source": [
    "### MICS Round 6"
   ]
  },
  {
   "cell_type": "markdown",
   "id": "ae885237-e3bc-43da-bf32-f4b85885d448",
   "metadata": {},
   "source": [
    "#### Extract and Sort"
   ]
  },
  {
   "cell_type": "code",
   "execution_count": 4,
   "id": "3b25d732",
   "metadata": {
    "tags": []
   },
   "outputs": [],
   "source": [
    "#extract and sort data\n",
    "MICS_module.extract_and_save_zipped_files('MICS/MICS_error_logs/log6.txt', 'MICS/MICS_zip/MICS_Datasets (6).zip', metadata, 6)"
   ]
  },
  {
   "cell_type": "markdown",
   "id": "86d79c74-3633-4864-8036-abb7544a49c2",
   "metadata": {
    "tags": []
   },
   "source": [
    "#### Examine Error Log"
   ]
  },
  {
   "cell_type": "code",
   "execution_count": 5,
   "id": "47d049ab",
   "metadata": {
    "tags": []
   },
   "outputs": [],
   "source": [
    "#parse error log\n",
    "log6 = MICS_module.parse_log_to_df('MICS/MICS_error_logs/log6.txt')"
   ]
  },
  {
   "cell_type": "code",
   "execution_count": 8,
   "id": "0b2351e7-bb06-4d99-a6a3-9701e0c6dad0",
   "metadata": {
    "tags": []
   },
   "outputs": [
    {
     "data": {
      "text/html": [
       "<div>\n",
       "<style scoped>\n",
       "    .dataframe tbody tr th:only-of-type {\n",
       "        vertical-align: middle;\n",
       "    }\n",
       "\n",
       "    .dataframe tbody tr th {\n",
       "        vertical-align: top;\n",
       "    }\n",
       "\n",
       "    .dataframe thead th {\n",
       "        text-align: right;\n",
       "    }\n",
       "</style>\n",
       "<table border=\"1\" class=\"dataframe\">\n",
       "  <thead>\n",
       "    <tr style=\"text-align: right;\">\n",
       "      <th></th>\n",
       "      <th>zip_file</th>\n",
       "      <th>normalized_country</th>\n",
       "      <th>standardized_country</th>\n",
       "      <th>metadata_row</th>\n",
       "      <th>extracted_country</th>\n",
       "      <th>metadata_rows_found</th>\n",
       "      <th>available_years</th>\n",
       "      <th>unzipping_to</th>\n",
       "      <th>saved_to</th>\n",
       "      <th>success</th>\n",
       "      <th>failure_reason</th>\n",
       "      <th>manual_check_advised</th>\n",
       "    </tr>\n",
       "  </thead>\n",
       "  <tbody>\n",
       "    <tr>\n",
       "      <th>29</th>\n",
       "      <td>Thailand MICS6 and Thailand Selected 17 Provin...</td>\n",
       "      <td>thailand</td>\n",
       "      <td>Thailand</td>\n",
       "      <td>Thailand</td>\n",
       "      <td>Thailand</td>\n",
       "      <td>2</td>\n",
       "      <td>['2022' '2019']</td>\n",
       "      <td>THA2019MC6</td>\n",
       "      <td>NaN</td>\n",
       "      <td>False</td>\n",
       "      <td>Destination path '../Individual_country_data/T...</td>\n",
       "      <td>Manual check advised</td>\n",
       "    </tr>\n",
       "  </tbody>\n",
       "</table>\n",
       "</div>"
      ],
      "text/plain": [
       "                                             zip_file normalized_country  \\\n",
       "29  Thailand MICS6 and Thailand Selected 17 Provin...           thailand   \n",
       "\n",
       "   standardized_country metadata_row extracted_country metadata_rows_found  \\\n",
       "29             Thailand     Thailand          Thailand                   2   \n",
       "\n",
       "    available_years unzipping_to saved_to success  \\\n",
       "29  ['2022' '2019']   THA2019MC6      NaN   False   \n",
       "\n",
       "                                       failure_reason  manual_check_advised  \n",
       "29  Destination path '../Individual_country_data/T...  Manual check advised  "
      ]
     },
     "execution_count": 8,
     "metadata": {},
     "output_type": "execute_result"
    }
   ],
   "source": [
    "#view files to manually check and files that failed to download\n",
    "log6[(log6['manual_check_advised'].notnull()) | (log6['success'] == False)]"
   ]
  },
  {
   "cell_type": "markdown",
   "id": "4289e19e-74f9-4070-87ab-71e73453b732",
   "metadata": {},
   "source": [
    "This failure was not a full failure. The Thailand zip file was organized strangely, in a way the code to flatten the file structure couldn't fully handle.\n",
    "The \"Thailand MICS6 and Thailand Selected 17 Provinces.zip\" file had 2 nested zip file inside containing the province specific data and the country wide data which caused this issue. After one sub file was unzipped, the attempt to unzip the remaining sub file and save it in the same folder gave the error that the file path already exists. The province data has been removed and this error can be considered taken care of. "
   ]
  },
  {
   "cell_type": "markdown",
   "id": "a6795ebb-eb2d-4b24-b4ed-b8dfa1b1c269",
   "metadata": {
    "jp-MarkdownHeadingCollapsed": true,
    "tags": []
   },
   "source": [
    "### MICS Round 5"
   ]
  },
  {
   "cell_type": "markdown",
   "id": "fbe53f42-5499-43dd-ac20-5c89a3e4f98f",
   "metadata": {},
   "source": [
    "#### Extract and Sort"
   ]
  },
  {
   "cell_type": "code",
   "execution_count": 9,
   "id": "a6d57975-61fc-4413-8fd0-ab78bce61581",
   "metadata": {
    "tags": []
   },
   "outputs": [],
   "source": [
    "#extract and sort data\n",
    "MICS_module.extract_and_save_zipped_files('MICS/MICS_error_logs/log5.txt', 'MICS/MICS_zip/MICS_Datasets (5).zip', metadata, 5)"
   ]
  },
  {
   "cell_type": "markdown",
   "id": "e9508dda-4aa6-4aa8-b50e-e218c1b72358",
   "metadata": {},
   "source": [
    "#### Examine Error Log"
   ]
  },
  {
   "cell_type": "code",
   "execution_count": 10,
   "id": "dc8973fe-8c53-4346-9c6b-a0c3f5475e80",
   "metadata": {
    "tags": []
   },
   "outputs": [],
   "source": [
    "#parse error log\n",
    "log5 = MICS_module.parse_log_to_df('MICS/MICS_error_logs/log5.txt')"
   ]
  },
  {
   "cell_type": "code",
   "execution_count": 13,
   "id": "f1a65801-71df-4fd4-9033-c4b5b31644c3",
   "metadata": {
    "tags": []
   },
   "outputs": [
    {
     "data": {
      "text/html": [
       "<div>\n",
       "<style scoped>\n",
       "    .dataframe tbody tr th:only-of-type {\n",
       "        vertical-align: middle;\n",
       "    }\n",
       "\n",
       "    .dataframe tbody tr th {\n",
       "        vertical-align: top;\n",
       "    }\n",
       "\n",
       "    .dataframe thead th {\n",
       "        text-align: right;\n",
       "    }\n",
       "</style>\n",
       "<table border=\"1\" class=\"dataframe\">\n",
       "  <thead>\n",
       "    <tr style=\"text-align: right;\">\n",
       "      <th></th>\n",
       "      <th>zip_file</th>\n",
       "      <th>normalized_country</th>\n",
       "      <th>standardized_country</th>\n",
       "      <th>metadata_row</th>\n",
       "      <th>extracted_country</th>\n",
       "      <th>metadata_rows_found</th>\n",
       "      <th>available_years</th>\n",
       "      <th>unzipping_to</th>\n",
       "      <th>saved_to</th>\n",
       "      <th>success</th>\n",
       "      <th>failure_reason</th>\n",
       "      <th>manual_check_advised</th>\n",
       "    </tr>\n",
       "  </thead>\n",
       "  <tbody>\n",
       "  </tbody>\n",
       "</table>\n",
       "</div>"
      ],
      "text/plain": [
       "Empty DataFrame\n",
       "Columns: [zip_file, normalized_country, standardized_country, metadata_row, extracted_country, metadata_rows_found, available_years, unzipping_to, saved_to, success, failure_reason, manual_check_advised]\n",
       "Index: []"
      ]
     },
     "execution_count": 13,
     "metadata": {},
     "output_type": "execute_result"
    }
   ],
   "source": [
    "#view files to manually check and files that failed do download \n",
    "log5[(log5['manual_check_advised'].notnull()) | (log5['success'] == False)]"
   ]
  },
  {
   "cell_type": "markdown",
   "id": "65d87e5c-9fbe-4642-b16b-be3332a57673",
   "metadata": {
    "jp-MarkdownHeadingCollapsed": true,
    "tags": []
   },
   "source": [
    "### MICS Round 4"
   ]
  },
  {
   "cell_type": "markdown",
   "id": "e76280dd-3eb1-4302-b0d0-27449a9efc72",
   "metadata": {},
   "source": [
    "#### Extract and Sort"
   ]
  },
  {
   "cell_type": "code",
   "execution_count": 14,
   "id": "74a8731d-c525-4afd-9f08-96132e33ca2c",
   "metadata": {
    "tags": []
   },
   "outputs": [],
   "source": [
    "#extract and sort data\n",
    "MICS_module.extract_and_save_zipped_files('MICS/MICS_error_logs/log4.txt', 'MICS/MICS_zip/MICS_Datasets (4).zip', metadata, 4)"
   ]
  },
  {
   "cell_type": "markdown",
   "id": "8be9f4d2-b01f-4de4-9d11-ce24352d4be4",
   "metadata": {},
   "source": [
    "#### Examine Error Log"
   ]
  },
  {
   "cell_type": "code",
   "execution_count": 15,
   "id": "f7a21d74-8f14-4a93-83c6-89b3037b3ac5",
   "metadata": {
    "tags": []
   },
   "outputs": [],
   "source": [
    "#parse error log\n",
    "log4 = MICS_module.parse_log_to_df('MICS/MICS_error_logs/log4.txt')"
   ]
  },
  {
   "cell_type": "code",
   "execution_count": 16,
   "id": "5a0daf89-caf3-44b6-8d80-abd151c1b99c",
   "metadata": {
    "tags": []
   },
   "outputs": [
    {
     "data": {
      "text/html": [
       "<div>\n",
       "<style scoped>\n",
       "    .dataframe tbody tr th:only-of-type {\n",
       "        vertical-align: middle;\n",
       "    }\n",
       "\n",
       "    .dataframe tbody tr th {\n",
       "        vertical-align: top;\n",
       "    }\n",
       "\n",
       "    .dataframe thead th {\n",
       "        text-align: right;\n",
       "    }\n",
       "</style>\n",
       "<table border=\"1\" class=\"dataframe\">\n",
       "  <thead>\n",
       "    <tr style=\"text-align: right;\">\n",
       "      <th></th>\n",
       "      <th>zip_file</th>\n",
       "      <th>normalized_country</th>\n",
       "      <th>standardized_country</th>\n",
       "      <th>metadata_row</th>\n",
       "      <th>extracted_country</th>\n",
       "      <th>metadata_rows_found</th>\n",
       "      <th>available_years</th>\n",
       "      <th>unzipping_to</th>\n",
       "      <th>saved_to</th>\n",
       "      <th>success</th>\n",
       "      <th>failure_reason</th>\n",
       "      <th>manual_check_advised</th>\n",
       "    </tr>\n",
       "  </thead>\n",
       "  <tbody>\n",
       "  </tbody>\n",
       "</table>\n",
       "</div>"
      ],
      "text/plain": [
       "Empty DataFrame\n",
       "Columns: [zip_file, normalized_country, standardized_country, metadata_row, extracted_country, metadata_rows_found, available_years, unzipping_to, saved_to, success, failure_reason, manual_check_advised]\n",
       "Index: []"
      ]
     },
     "execution_count": 16,
     "metadata": {},
     "output_type": "execute_result"
    }
   ],
   "source": [
    "#view files to manually check and files that failed do download \n",
    "log4[(log4['manual_check_advised'].notnull()) | (log4['success'] == False)]"
   ]
  },
  {
   "cell_type": "markdown",
   "id": "f956d4dc-1531-4ebf-b03d-436ef91ef417",
   "metadata": {
    "jp-MarkdownHeadingCollapsed": true,
    "tags": []
   },
   "source": [
    "### MICS Round 3"
   ]
  },
  {
   "cell_type": "markdown",
   "id": "90dc5a75-03f2-4847-9eab-7785669fd64a",
   "metadata": {},
   "source": [
    "#### Extract and Sort"
   ]
  },
  {
   "cell_type": "code",
   "execution_count": 17,
   "id": "45530244-17dc-4ec9-8c14-b6945e8afcd4",
   "metadata": {
    "tags": []
   },
   "outputs": [],
   "source": [
    "#extract and sort data\n",
    "MICS_module.extract_and_save_zipped_files('MICS/MICS_error_logs/log3.txt', 'MICS/MICS_zip/MICS_Datasets (3).zip', metadata, 3)"
   ]
  },
  {
   "cell_type": "markdown",
   "id": "de24a3b8-78d2-4cd7-8c47-40212ed3b295",
   "metadata": {},
   "source": [
    "#### Examine Error Log"
   ]
  },
  {
   "cell_type": "code",
   "execution_count": 18,
   "id": "af9e5fbd-6dee-430f-b383-1b7fa5a92508",
   "metadata": {
    "tags": []
   },
   "outputs": [],
   "source": [
    "#parse error log\n",
    "log3 = MICS_module.parse_log_to_df('MICS/MICS_error_logs/log3.txt')"
   ]
  },
  {
   "cell_type": "code",
   "execution_count": 19,
   "id": "50a6187a-2b11-4bfe-83ae-19a848e8550d",
   "metadata": {
    "tags": []
   },
   "outputs": [
    {
     "data": {
      "text/html": [
       "<div>\n",
       "<style scoped>\n",
       "    .dataframe tbody tr th:only-of-type {\n",
       "        vertical-align: middle;\n",
       "    }\n",
       "\n",
       "    .dataframe tbody tr th {\n",
       "        vertical-align: top;\n",
       "    }\n",
       "\n",
       "    .dataframe thead th {\n",
       "        text-align: right;\n",
       "    }\n",
       "</style>\n",
       "<table border=\"1\" class=\"dataframe\">\n",
       "  <thead>\n",
       "    <tr style=\"text-align: right;\">\n",
       "      <th></th>\n",
       "      <th>zip_file</th>\n",
       "      <th>normalized_country</th>\n",
       "      <th>standardized_country</th>\n",
       "      <th>metadata_row</th>\n",
       "      <th>extracted_country</th>\n",
       "      <th>metadata_rows_found</th>\n",
       "      <th>available_years</th>\n",
       "      <th>unzipping_to</th>\n",
       "      <th>saved_to</th>\n",
       "      <th>success</th>\n",
       "      <th>failure_reason</th>\n",
       "      <th>manual_check_advised</th>\n",
       "    </tr>\n",
       "  </thead>\n",
       "  <tbody>\n",
       "  </tbody>\n",
       "</table>\n",
       "</div>"
      ],
      "text/plain": [
       "Empty DataFrame\n",
       "Columns: [zip_file, normalized_country, standardized_country, metadata_row, extracted_country, metadata_rows_found, available_years, unzipping_to, saved_to, success, failure_reason, manual_check_advised]\n",
       "Index: []"
      ]
     },
     "execution_count": 19,
     "metadata": {},
     "output_type": "execute_result"
    }
   ],
   "source": [
    "#view files to manually check and files that failed do download \n",
    "log3[(log3['manual_check_advised'].notnull()) | (log3['success'] == False)]"
   ]
  },
  {
   "cell_type": "markdown",
   "id": "e4af45e2-6b66-4027-8cda-b0976d180aae",
   "metadata": {
    "jp-MarkdownHeadingCollapsed": true,
    "tags": []
   },
   "source": [
    "### MICS Round 2"
   ]
  },
  {
   "cell_type": "markdown",
   "id": "cc7ade36-1e3c-4af7-9eef-2d2608f97e50",
   "metadata": {},
   "source": [
    "#### Extract and Sort"
   ]
  },
  {
   "cell_type": "code",
   "execution_count": 20,
   "id": "efcb5465-a34f-49b1-9c13-172470132eee",
   "metadata": {
    "tags": []
   },
   "outputs": [],
   "source": [
    "#extract and sort data\n",
    "MICS_module.extract_and_save_zipped_files('MICS/MICS_error_logs/log2.txt', 'MICS/MICS_zip/MICS_Datasets (2).zip', metadata, 2)"
   ]
  },
  {
   "cell_type": "markdown",
   "id": "215c2fb3-8f4c-4cdd-aafe-995b991a8440",
   "metadata": {},
   "source": [
    "#### Examine Error Log"
   ]
  },
  {
   "cell_type": "code",
   "execution_count": 21,
   "id": "6b108468-58de-4576-a5c6-11f7c20b06bb",
   "metadata": {
    "tags": []
   },
   "outputs": [],
   "source": [
    "#parse error log\n",
    "log2 = MICS_module.parse_log_to_df('MICS/MICS_error_logs/log2.txt')"
   ]
  },
  {
   "cell_type": "code",
   "execution_count": 22,
   "id": "c106e7d8-a7a6-40a0-8510-e126ce432a34",
   "metadata": {
    "tags": []
   },
   "outputs": [
    {
     "data": {
      "text/html": [
       "<div>\n",
       "<style scoped>\n",
       "    .dataframe tbody tr th:only-of-type {\n",
       "        vertical-align: middle;\n",
       "    }\n",
       "\n",
       "    .dataframe tbody tr th {\n",
       "        vertical-align: top;\n",
       "    }\n",
       "\n",
       "    .dataframe thead th {\n",
       "        text-align: right;\n",
       "    }\n",
       "</style>\n",
       "<table border=\"1\" class=\"dataframe\">\n",
       "  <thead>\n",
       "    <tr style=\"text-align: right;\">\n",
       "      <th></th>\n",
       "      <th>zip_file</th>\n",
       "      <th>normalized_country</th>\n",
       "      <th>standardized_country</th>\n",
       "      <th>metadata_row</th>\n",
       "      <th>extracted_country</th>\n",
       "      <th>metadata_rows_found</th>\n",
       "      <th>available_years</th>\n",
       "      <th>unzipping_to</th>\n",
       "      <th>saved_to</th>\n",
       "      <th>success</th>\n",
       "      <th>failure_reason</th>\n",
       "      <th>manual_check_advised</th>\n",
       "    </tr>\n",
       "  </thead>\n",
       "  <tbody>\n",
       "    <tr>\n",
       "      <th>41</th>\n",
       "      <td>Sao Tome and Principle 2000 MICS_Datasets.zip</td>\n",
       "      <td>sao tome and principle</td>\n",
       "      <td>error</td>\n",
       "      <td>NaN</td>\n",
       "      <td>error</td>\n",
       "      <td>1</td>\n",
       "      <td>['2000']</td>\n",
       "      <td>STP2000MC2</td>\n",
       "      <td>/Individual_country_data/STP_Sao_Tome_and_Prin...</td>\n",
       "      <td>True</td>\n",
       "      <td>NaN</td>\n",
       "      <td>Fuzzy match used</td>\n",
       "    </tr>\n",
       "  </tbody>\n",
       "</table>\n",
       "</div>"
      ],
      "text/plain": [
       "                                         zip_file      normalized_country  \\\n",
       "41  Sao Tome and Principle 2000 MICS_Datasets.zip  sao tome and principle   \n",
       "\n",
       "   standardized_country metadata_row extracted_country metadata_rows_found  \\\n",
       "41                error          NaN             error                   1   \n",
       "\n",
       "   available_years unzipping_to  \\\n",
       "41        ['2000']   STP2000MC2   \n",
       "\n",
       "                                             saved_to  success  \\\n",
       "41  /Individual_country_data/STP_Sao_Tome_and_Prin...     True   \n",
       "\n",
       "    failure_reason manual_check_advised  \n",
       "41             NaN     Fuzzy match used  "
      ]
     },
     "execution_count": 22,
     "metadata": {},
     "output_type": "execute_result"
    }
   ],
   "source": [
    "#view files to manually check and files that failed do download \n",
    "log2[(log2['manual_check_advised'].notnull()) | (log2['success'] == False)]"
   ]
  },
  {
   "cell_type": "markdown",
   "id": "a53ff80d-f9d0-4ac9-a9d6-574335574893",
   "metadata": {},
   "source": [
    "This case, has manual check advised because a fuzzy match was used. That means because of a spelling error in the country name in the file, the country could not be perfectly matched and had to be matched on similarities. Since it was unzipped to STP_Sao_Tome_and_Principe, it seems the match was correct. No action was needed"
   ]
  }
 ],
 "metadata": {
  "kernelspec": {
   "display_name": "Python 3 (ipykernel)",
   "language": "python",
   "name": "python3"
  },
  "language_info": {
   "codemirror_mode": {
    "name": "ipython",
    "version": 3
   },
   "file_extension": ".py",
   "mimetype": "text/x-python",
   "name": "python",
   "nbconvert_exporter": "python",
   "pygments_lexer": "ipython3",
   "version": "3.11.4"
  }
 },
 "nbformat": 4,
 "nbformat_minor": 5
}
