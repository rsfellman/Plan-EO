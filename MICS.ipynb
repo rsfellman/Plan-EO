{
 "cells": [
  {
   "cell_type": "markdown",
   "id": "28fa95c3-b5d8-46e0-a6f3-fe03d985c2dd",
   "metadata": {},
   "source": [
    "# MICS Download"
   ]
  },
  {
   "cell_type": "markdown",
   "id": "ecbf8e28-3526-4c94-920c-3f4f012fbd6c",
   "metadata": {},
   "source": [
    "This notebook will call the MICS_module and use the functions to download and sort new MICS data.\n",
    "\n",
    "### Instructions \n",
    "1. When a new MICS survey is avaialable, go to mics survey site (https://mics.unicef.org/surveys). Click the upload button and select CSV next to the grayed-out \"DOWNLOAD MICS DATASETS\" button to get the most up to date metadata.\n",
    "\n",
    "2. Select the correct survey round, the appropriate region and select MICS as the datatype. Click \"DOWNLOAD MICS DATASETS\".\n",
    "\n",
    "    **NOTE** The MICS_module is made to sort bulk mics datasets. If you download only one dataset from a country this function will not work and it would be best to manually sort that into the appropriate folder\n",
    "\n",
    "3. Import the MICS_module into you notebook.\n",
    "\n",
    "4. Use MICS_module to process the downloaded metadata csv from step 1:\n",
    "\n",
    "    ```{python}\n",
    "    metadata = MICS_module.process_mics_metadata('path_to_metadata', 'MICS/ISO3_country_codes.csv')\n",
    "    ``` \n",
    "\n",
    "5.  Check for missing values in metadata and fill in as needed. There shouldn't be any missing values right now, but as country names change, there might be.\n",
    "The MICS metadata is organized as follows:  \n",
    "    - round: The MICS round (e.g., \"MICS6\").\n",
    "    - round_num: The numeric representation of the MICS round (e.g., 6).\n",
    "    - country_x: The original country name from the MICS metadata.\n",
    "    - country_code: The ISO3 country code.\n",
    "    - year: The year of the survey.\n",
    "    - save_name: The standardized country name used for saving files.\n",
    "    - standardized: The standardized country name for merging and sorting.\n",
    "\n",
    "6. Use MICS_module to sort the zipped datasets downloaded in step 2:  \n",
    "\n",
    "    ```{python} \n",
    "    MICS_module.extract_and_save_zipped_files('file/extraction/log/path.txt', 'zip/file/path/', mics_metadata, survey_round_number) \n",
    "    ```"
   ]
  },
  {
   "cell_type": "markdown",
   "id": "bd0c78b3",
   "metadata": {},
   "source": []
  },
  {
   "cell_type": "code",
   "execution_count": null,
   "id": "ce4b34e2",
   "metadata": {},
   "outputs": [
    {
     "name": "stdout",
     "output_type": "stream",
     "text": [
      "Defaulting to user installation because normal site-packages is not writeable\n",
      "Collecting rapidfuzz\n",
      "  Downloading rapidfuzz-3.13.0-cp311-cp311-manylinux_2_17_x86_64.manylinux2014_x86_64.whl.metadata (12 kB)\n",
      "Downloading rapidfuzz-3.13.0-cp311-cp311-manylinux_2_17_x86_64.manylinux2014_x86_64.whl (3.1 MB)\n",
      "\u001b[2K   \u001b[90m━━━━━━━━━━━━━━━━━━━━━━━━━━━━━━━━━━━━━━━━\u001b[0m \u001b[32m3.1/3.1 MB\u001b[0m \u001b[31m56.5 MB/s\u001b[0m eta \u001b[36m0:00:00\u001b[0m:00:01\u001b[0m\n",
      "\u001b[?25hInstalling collected packages: rapidfuzz\n",
      "Successfully installed rapidfuzz-3.13.0\n"
     ]
    }
   ],
   "source": [
    "#!pip install pycountry\n",
    "#!pip install unidecode\n",
    "#!pip install rapidfuzz"
   ]
  },
  {
   "cell_type": "code",
   "execution_count": 19,
   "id": "5ddc1ac1",
   "metadata": {},
   "outputs": [],
   "source": [
    "#import mics module\n",
    "import MICS_module"
   ]
  },
  {
   "cell_type": "code",
   "execution_count": 16,
   "id": "c1356024",
   "metadata": {},
   "outputs": [],
   "source": [
    "#process mics metadata\n",
    "metadata = MICS_module.process_mics_metadata('MICS/mics_surveys_catalogue.csv', 'MICS/ISO3_country_codes.csv')"
   ]
  },
  {
   "cell_type": "code",
   "execution_count": 22,
   "id": "686e0a68",
   "metadata": {},
   "outputs": [
    {
     "data": {
      "text/html": [
       "<div>\n",
       "<style scoped>\n",
       "    .dataframe tbody tr th:only-of-type {\n",
       "        vertical-align: middle;\n",
       "    }\n",
       "\n",
       "    .dataframe tbody tr th {\n",
       "        vertical-align: top;\n",
       "    }\n",
       "\n",
       "    .dataframe thead th {\n",
       "        text-align: right;\n",
       "    }\n",
       "</style>\n",
       "<table border=\"1\" class=\"dataframe\">\n",
       "  <thead>\n",
       "    <tr style=\"text-align: right;\">\n",
       "      <th></th>\n",
       "      <th>round</th>\n",
       "      <th>round_num</th>\n",
       "      <th>country_x</th>\n",
       "      <th>country_code</th>\n",
       "      <th>year</th>\n",
       "      <th>save_name</th>\n",
       "      <th>standardized</th>\n",
       "    </tr>\n",
       "  </thead>\n",
       "  <tbody>\n",
       "    <tr>\n",
       "      <th>0</th>\n",
       "      <td>MICS7</td>\n",
       "      <td>7</td>\n",
       "      <td>Viet Nam</td>\n",
       "      <td>VNM</td>\n",
       "      <td>2027</td>\n",
       "      <td>Vietnam</td>\n",
       "      <td>Viet Nam</td>\n",
       "    </tr>\n",
       "    <tr>\n",
       "      <th>1</th>\n",
       "      <td>MICS7</td>\n",
       "      <td>7</td>\n",
       "      <td>Armenia</td>\n",
       "      <td>ARM</td>\n",
       "      <td>2026</td>\n",
       "      <td>Armenia</td>\n",
       "      <td>Armenia</td>\n",
       "    </tr>\n",
       "    <tr>\n",
       "      <th>2</th>\n",
       "      <td>MICS7</td>\n",
       "      <td>7</td>\n",
       "      <td>Tuvalu</td>\n",
       "      <td>TUV</td>\n",
       "      <td>2026</td>\n",
       "      <td>Tuvalu</td>\n",
       "      <td>Tuvalu</td>\n",
       "    </tr>\n",
       "    <tr>\n",
       "      <th>3</th>\n",
       "      <td>MICS7</td>\n",
       "      <td>7</td>\n",
       "      <td>Fiji</td>\n",
       "      <td>FJI</td>\n",
       "      <td>2026</td>\n",
       "      <td>Fiji</td>\n",
       "      <td>Fiji</td>\n",
       "    </tr>\n",
       "    <tr>\n",
       "      <th>4</th>\n",
       "      <td>MICS7</td>\n",
       "      <td>7</td>\n",
       "      <td>Kiribati</td>\n",
       "      <td>KIR</td>\n",
       "      <td>2026</td>\n",
       "      <td>Kiribati</td>\n",
       "      <td>Kiribati</td>\n",
       "    </tr>\n",
       "  </tbody>\n",
       "</table>\n",
       "</div>"
      ],
      "text/plain": [
       "   round  round_num country_x country_code  year save_name standardized\n",
       "0  MICS7          7  Viet Nam          VNM  2027   Vietnam     Viet Nam\n",
       "1  MICS7          7   Armenia          ARM  2026   Armenia      Armenia\n",
       "2  MICS7          7    Tuvalu          TUV  2026    Tuvalu       Tuvalu\n",
       "3  MICS7          7      Fiji          FJI  2026      Fiji         Fiji\n",
       "4  MICS7          7  Kiribati          KIR  2026  Kiribati     Kiribati"
      ]
     },
     "execution_count": 22,
     "metadata": {},
     "output_type": "execute_result"
    }
   ],
   "source": [
    "#view metadata\n",
    "metadata.head()"
   ]
  },
  {
   "cell_type": "code",
   "execution_count": 23,
   "id": "3b25d732",
   "metadata": {},
   "outputs": [
    {
     "ename": "UnboundLocalError",
     "evalue": "cannot access local variable 'temp_dir' where it is not associated with a value",
     "output_type": "error",
     "traceback": [
      "\u001b[31m---------------------------------------------------------------------------\u001b[39m",
      "\u001b[31mUnboundLocalError\u001b[39m                         Traceback (most recent call last)",
      "\u001b[36mCell\u001b[39m\u001b[36m \u001b[39m\u001b[32mIn[23]\u001b[39m\u001b[32m, line 2\u001b[39m\n\u001b[32m      1\u001b[39m \u001b[38;5;66;03m#extract and sort data\u001b[39;00m\n\u001b[32m----> \u001b[39m\u001b[32m2\u001b[39m \u001b[43mMICS_module\u001b[49m\u001b[43m.\u001b[49m\u001b[43mextract_and_save_zipped_files\u001b[49m\u001b[43m(\u001b[49m\u001b[33;43m'\u001b[39;49m\u001b[33;43mMICS/MICS_error_logs/test_log.txt\u001b[39;49m\u001b[33;43m'\u001b[39;49m\u001b[43m,\u001b[49m\u001b[43m \u001b[49m\u001b[33;43m'\u001b[39;49m\u001b[33;43mMICS/MICS_zip/MICS_Dataseets test.zip\u001b[39;49m\u001b[33;43m'\u001b[39;49m\u001b[43m,\u001b[49m\u001b[43m \u001b[49m\u001b[43mmetadata\u001b[49m\u001b[43m,\u001b[49m\u001b[43m \u001b[49m\u001b[32;43m6\u001b[39;49m\u001b[43m)\u001b[49m\n",
      "\u001b[36mFile \u001b[39m\u001b[32m/sfs/ceph/standard/Plan-EO_Storage/Capstone-25/MICS_module.py:281\u001b[39m, in \u001b[36mextract_and_save_zipped_files\u001b[39m\u001b[34m(file_extraction_log, zip_file_path, mics_metadata, survey_round)\u001b[39m\n\u001b[32m    271\u001b[39m \u001b[38;5;28;01mdef\u001b[39;00m\u001b[38;5;250m \u001b[39m\u001b[34mextract_and_save_zipped_files\u001b[39m(file_extraction_log, zip_file_path, mics_metadata, survey_round):\n\u001b[32m    272\u001b[39m \u001b[38;5;250m    \u001b[39m\u001b[33;03m\"\"\"\u001b[39;00m\n\u001b[32m    273\u001b[39m \u001b[33;03m    Extracts nested zip files and saves them in a folder with a specific naming convention.\u001b[39;00m\n\u001b[32m    274\u001b[39m \n\u001b[32m    275\u001b[39m \u001b[33;03m    Parameters:\u001b[39;00m\n\u001b[32m    276\u001b[39m \u001b[33;03m        file_extraction_log(str): path to file where log messages will be saved\u001b[39;00m\n\u001b[32m    277\u001b[39m \u001b[33;03m        zip_dir (str): Path to the directory or zip file containing the zip files.\u001b[39;00m\n\u001b[32m    278\u001b[39m \u001b[33;03m        mics_metadata (pd.DataFrame): DataFrame containing metadata with ISO3 codes and years.\u001b[39;00m\n\u001b[32m    279\u001b[39m \u001b[33;03m        survey_round (int): The survey round number to filter metadata.\u001b[39;00m\n\u001b[32m    280\u001b[39m \n\u001b[32m--> \u001b[39m\u001b[32m281\u001b[39m \u001b[33;03m    Returns:\u001b[39;00m\n\u001b[32m    282\u001b[39m \u001b[33;03m        None\u001b[39;00m\n\u001b[32m    283\u001b[39m \u001b[33;03m    \"\"\"\u001b[39;00m\n\u001b[32m    285\u001b[39m     \u001b[38;5;66;03m# Clear existing handlers\u001b[39;00m\n\u001b[32m    286\u001b[39m     \u001b[38;5;28;01mfor\u001b[39;00m handler \u001b[38;5;129;01min\u001b[39;00m logging.root.handlers[:]:\n",
      "\u001b[31mUnboundLocalError\u001b[39m: cannot access local variable 'temp_dir' where it is not associated with a value"
     ]
    }
   ],
   "source": [
    "#extract and sort data\n",
    "MICS_module.extract_and_save_zipped_files('MICS/MICS_error_logs/test_log.txt', 'MICS/MICS_zip/MICS_Dataseets test.zip', metadata, 6)"
   ]
  },
  {
   "cell_type": "code",
   "execution_count": null,
   "id": "47d049ab",
   "metadata": {},
   "outputs": [],
   "source": []
  }
 ],
 "metadata": {
  "kernelspec": {
   "display_name": "Python 3",
   "language": "python",
   "name": "python3"
  },
  "language_info": {
   "codemirror_mode": {
    "name": "ipython",
    "version": 3
   },
   "file_extension": ".py",
   "mimetype": "text/x-python",
   "name": "python",
   "nbconvert_exporter": "python",
   "pygments_lexer": "ipython3",
   "version": "3.11.6"
  }
 },
 "nbformat": 4,
 "nbformat_minor": 5
}
