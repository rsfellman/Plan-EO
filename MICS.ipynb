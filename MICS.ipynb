{
 "cells": [
  {
   "cell_type": "markdown",
   "id": "28fa95c3-b5d8-46e0-a6f3-fe03d985c2dd",
   "metadata": {},
   "source": [
    "# MICS Download"
   ]
  },
  {
   "cell_type": "markdown",
   "id": "ecbf8e28-3526-4c94-920c-3f4f012fbd6c",
   "metadata": {},
   "source": [
    "This notebook is used to sort new MICS data into its respective folder. \n"
   ]
  }
 ],
 "metadata": {
  "kernelspec": {
   "display_name": "Python 3 (ipykernel)",
   "language": "python",
   "name": "python3"
  },
  "language_info": {
   "codemirror_mode": {
    "name": "ipython",
    "version": 3
   },
   "file_extension": ".py",
   "mimetype": "text/x-python",
   "name": "python",
   "nbconvert_exporter": "python",
   "pygments_lexer": "ipython3",
   "version": "3.11.4"
  }
 },
 "nbformat": 4,
 "nbformat_minor": 5
}
