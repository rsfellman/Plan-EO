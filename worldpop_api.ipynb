{
 "cells": [
  {
   "cell_type": "markdown",
   "id": "b4e945e9-d5dd-4e06-83c7-fc51bf857693",
   "metadata": {},
   "source": [
    "4/7 - this is the current code to download WorldPop population density data for year 2020 (most recent year at resolution = 1km)\n",
    "\n",
    "This will not require frequent re-updates, but any updates will require changing several of the below code cells (see notes in comments and in Markdown cells below)"
   ]
  },
  {
   "cell_type": "code",
   "execution_count": 1,
   "id": "712af275-5b9b-4e2d-9c57-7a7f4ba3f639",
   "metadata": {
    "tags": []
   },
   "outputs": [],
   "source": [
    "import requests\n",
    "import json\n",
    "import pandas as pd\n",
    "from urllib.request import urlretrieve"
   ]
  },
  {
   "cell_type": "code",
   "execution_count": 19,
   "id": "a3444615-7099-4f5d-bc4d-88e359c6a4e9",
   "metadata": {
    "tags": []
   },
   "outputs": [
    {
     "data": {
      "text/plain": [
       "{'data': [{'alias': 'pic', 'name': 'Individual countries'},\n",
       "  {'alias': 'pop_continent', 'name': 'Whole Continent'},\n",
       "  {'alias': 'wpgp',\n",
       "   'name': 'Unconstrained individual countries 2000-2020 ( 100m resolution )'},\n",
       "  {'alias': 'wpgp1km',\n",
       "   'name': 'Unconstrained global mosaics 2000-2020 ( 1km resolution )'},\n",
       "  {'alias': '', 'name': 'WP00643'},\n",
       "  {'alias': 'wpgpunadj',\n",
       "   'name': 'Unconstrained individual countries 2000-2020 UN adjusted ( 100m resolution )'},\n",
       "  {'alias': 'wpic1km',\n",
       "   'name': 'Unconstrained individual countries 2000-2020  ( 1km resolution )'},\n",
       "  {'alias': 'wpicuadj1km',\n",
       "   'name': 'Unconstrained individual countries 2000-2020 UN adjusted ( 1km resolution )'},\n",
       "  {'alias': 'cic2020_100m',\n",
       "   'name': 'Constrained Individual countries 2020 ( 100m resolution )'},\n",
       "  {'alias': 'cic2020_UNadj_100m',\n",
       "   'name': 'Constrained Individual countries 2020 UN adjusted  (100m resolution)'},\n",
       "  {'alias': 'G2_UC_POP_2024_100m',\n",
       "   'name': 'Unconstrained individual countries 2024 ( 100m resolution )'},\n",
       "  {'alias': 'G2_CN_POP_2024_100m',\n",
       "   'name': 'Constrained individual countries 2024 ( 100m resolution ) '},\n",
       "  {'alias': 'G2_UC_POP_R24B_100m',\n",
       "   'name': 'Unconstrained individual countries 2015-2030 ( 100m resolution ) R2024B v1'},\n",
       "  {'alias': 'G2_CN_POP_R24B_100m',\n",
       "   'name': 'Constrained individual countries 2015-2030 ( 100m resolution ) R2024B v1'}]}"
      ]
     },
     "execution_count": 19,
     "metadata": {},
     "output_type": "execute_result"
    }
   ],
   "source": [
    "# view available aliases (also serves as test that API endpoint is working correctly)\n",
    "url = \"https://www.worldpop.org/rest/data/pop/\"\n",
    "\n",
    "response = requests.get(url)\n",
    "\n",
    "text = json.loads(response.text)\n",
    "text"
   ]
  },
  {
   "cell_type": "markdown",
   "id": "e08ef308-1363-48f5-92f1-0d18f29d97b2",
   "metadata": {},
   "source": [
    "The above shows the available resolutions and time periods for population density data. Right now we are using `wpic1km`, but if a preferred version becomes available, we can update the below cell which specifies the alias. The code below automatically updates that alias in the API call."
   ]
  },
  {
   "cell_type": "code",
   "execution_count": 20,
   "id": "67fb3a12-61c7-4b02-903f-efdec885b7f9",
   "metadata": {
    "tags": []
   },
   "outputs": [],
   "source": [
    "alias = 'wpic1km'"
   ]
  },
  {
   "cell_type": "code",
   "execution_count": 15,
   "id": "0edb480b-4ca2-4f3d-8799-f6c38ab14ceb",
   "metadata": {
    "tags": []
   },
   "outputs": [
    {
     "data": {
      "text/html": [
       "<div>\n",
       "<style scoped>\n",
       "    .dataframe tbody tr th:only-of-type {\n",
       "        vertical-align: middle;\n",
       "    }\n",
       "\n",
       "    .dataframe tbody tr th {\n",
       "        vertical-align: top;\n",
       "    }\n",
       "\n",
       "    .dataframe thead th {\n",
       "        text-align: right;\n",
       "    }\n",
       "</style>\n",
       "<table border=\"1\" class=\"dataframe\">\n",
       "  <thead>\n",
       "    <tr style=\"text-align: right;\">\n",
       "      <th></th>\n",
       "      <th>Name</th>\n",
       "      <th>ISO2</th>\n",
       "      <th>ISO3</th>\n",
       "    </tr>\n",
       "  </thead>\n",
       "  <tbody>\n",
       "    <tr>\n",
       "      <th>0</th>\n",
       "      <td>Afghanistan</td>\n",
       "      <td>AF</td>\n",
       "      <td>AFG</td>\n",
       "    </tr>\n",
       "    <tr>\n",
       "      <th>1</th>\n",
       "      <td>Algeria</td>\n",
       "      <td>DZ</td>\n",
       "      <td>DZA</td>\n",
       "    </tr>\n",
       "    <tr>\n",
       "      <th>2</th>\n",
       "      <td>Angola</td>\n",
       "      <td>AO</td>\n",
       "      <td>AGO</td>\n",
       "    </tr>\n",
       "    <tr>\n",
       "      <th>3</th>\n",
       "      <td>Argentina</td>\n",
       "      <td>AR</td>\n",
       "      <td>ARG</td>\n",
       "    </tr>\n",
       "    <tr>\n",
       "      <th>4</th>\n",
       "      <td>Armenia</td>\n",
       "      <td>AM</td>\n",
       "      <td>ARM</td>\n",
       "    </tr>\n",
       "  </tbody>\n",
       "</table>\n",
       "</div>"
      ],
      "text/plain": [
       "          Name ISO2 ISO3\n",
       "0  Afghanistan   AF  AFG\n",
       "1      Algeria   DZ  DZA\n",
       "2       Angola   AO  AGO\n",
       "3    Argentina   AR  ARG\n",
       "4      Armenia   AM  ARM"
      ]
     },
     "execution_count": 15,
     "metadata": {},
     "output_type": "execute_result"
    }
   ],
   "source": [
    "# read in country metadata\n",
    "metadata = pd.read_excel('../Plan-EO_Country_meta-data.xlsx')\n",
    "metadata = metadata[['Name', 'ISO2', 'ISO3']] # get the sections we need\n",
    "metadata.Name = metadata.Name.str.replace(' ', '_') # to match Name to the format of the Individual_country_data folder\n",
    "metadata.head()"
   ]
  },
  {
   "cell_type": "markdown",
   "id": "77f8490d-89b1-4c78-8456-3b64cfd19fbf",
   "metadata": {},
   "source": [
    "This loop may need to be updated, specifically the lines handling extraction of the desired URL (beginning with `tiff_urls = ...`) if the desired alias (see above) needs to be updated. I will provide a walkthrough of how exactly to determine the necessary changes below, for documentation purposes."
   ]
  },
  {
   "cell_type": "code",
   "execution_count": 14,
   "id": "07d2c854-d557-46ff-bff3-1bd108925228",
   "metadata": {
    "tags": []
   },
   "outputs": [
    {
     "name": "stdout",
     "output_type": "stream",
     "text": [
      "Burundi\n",
      "Cambodia\n",
      "Cameroon\n",
      "Cape_Verde\n",
      "Central_African_Republic\n",
      "Chad\n",
      "China\n",
      "Colombia\n",
      "Comoros\n",
      "Congo\n",
      "Costa_Rica\n",
      "Cote_d'Ivoire\n",
      "Cuba\n",
      "Democratic_Republic_of_Congo\n",
      "Djibouti\n",
      "Dominica\n",
      "Dominican_Republic\n",
      "Ecuador\n",
      "Egypt\n",
      "El_Salvador\n",
      "Equatorial_Guinea\n",
      "Eritrea\n",
      "Eswatini\n",
      "Ethiopia\n",
      "Fiji\n",
      "Gabon\n",
      "Gambia\n",
      "Georgia\n",
      "Ghana\n",
      "Grenada\n",
      "Guatemala\n",
      "Guinea\n",
      "Guinea-Bissau\n",
      "Guyana\n",
      "Haiti\n",
      "Honduras\n",
      "India\n",
      "Indonesia\n",
      "Iran\n",
      "Iraq\n",
      "Jamaica\n",
      "Jordan\n",
      "Kazakhstan\n",
      "Kenya\n",
      "Kiribati\n",
      "Kyrgyzstan\n",
      "Laos\n",
      "Lebanon\n",
      "Lesotho\n",
      "Liberia\n",
      "Libya\n",
      "Madagascar\n",
      "Malawi\n",
      "Malaysia\n",
      "Maldives\n",
      "Mali\n",
      "Marshall_Islands\n",
      "Mauritania\n",
      "Mauritius\n",
      "Mexico\n",
      "Micronesia\n",
      "Mongolia\n",
      "Morocco\n",
      "Mozambique\n",
      "Myanmar\n",
      "Namibia\n",
      "Nepal\n",
      "Nicaragua\n",
      "Niger\n",
      "Nigeria\n",
      "North_Korea\n",
      "Pakistan\n",
      "Palestine\n",
      "Panama\n",
      "Papua_New_Guinea\n",
      "Paraguay\n",
      "Peru\n",
      "Philippines\n",
      "Rwanda\n",
      "Saint_Lucia\n",
      "Saint_Vincent_and_the_Grenadines\n",
      "Samoa\n",
      "Sao_Tome_and_Principe\n",
      "Senegal\n",
      "Sierra_Leone\n",
      "Solomon_Islands\n",
      "Somalia\n",
      "South_Africa\n",
      "South_Sudan\n",
      "Sri_Lanka\n",
      "Sudan\n",
      "Suriname\n",
      "Syria\n",
      "Tajikistan\n",
      "Tanzania\n",
      "Thailand\n",
      "Timor-Leste\n",
      "Togo\n",
      "Tonga\n",
      "Tunisia\n",
      "Turkey\n",
      "Turkmenistan\n",
      "Tuvalu\n",
      "Uganda\n",
      "Uzbekistan\n",
      "Vanuatu\n",
      "Venezuela\n",
      "Vietnam\n",
      "Yemen\n",
      "Zambia\n",
      "Zimbabwe\n"
     ]
    }
   ],
   "source": [
    "# loop through every country\n",
    "for i in range(len(metadata)):\n",
    "    \n",
    "    # extract iso3 and country name\n",
    "    iso3 = metadata.loc[i,'ISO3']\n",
    "    country = metadata.loc[i,'Name']\n",
    "\n",
    "    # set query URL (we are using worldpop's REST API endpoint)\n",
    "    url = f'https://www.worldpop.org/rest/data/pop/{alias}?iso3={iso3}'\n",
    "\n",
    "    # load response and extract data\n",
    "    response = requests.get(url)\n",
    "    text = json.loads(response.text)\n",
    "    data = text['data']\n",
    "\n",
    "    # extract URL path to TIFF folder (note that this may change if the alias changes - potential for different file structure)\n",
    "    # but stable for now\n",
    "    tiff_urls = [item for item in data if item.get('popyear') == '2020'][0]['files']\n",
    "    tiff_url = [item for item in tiff_urls if item.endswith('.tif')][0]\n",
    "    \n",
    "    # get end path (name at which the extracted TIFF will be stored)\n",
    "    end_path = tiff_url.split('/')[-1]\n",
    "    # option to print end_path to track progress\n",
    "    # print(end_path)\n",
    "    \n",
    "    # set path to destination folder and retrieve TIFF file from data index, store in destination folder\n",
    "    path = f'../Individual_country_data/{iso3}_{country}/04_Population_density_data/World_pop/{end_path}'\n",
    "    urlretrieve(tiff_url, path)"
   ]
  }
 ],
 "metadata": {
  "kernelspec": {
   "display_name": "Python 3 (ipykernel)",
   "language": "python",
   "name": "python3"
  },
  "language_info": {
   "codemirror_mode": {
    "name": "ipython",
    "version": 3
   },
   "file_extension": ".py",
   "mimetype": "text/x-python",
   "name": "python",
   "nbconvert_exporter": "python",
   "pygments_lexer": "ipython3",
   "version": "3.11.4"
  }
 },
 "nbformat": 4,
 "nbformat_minor": 5
}
