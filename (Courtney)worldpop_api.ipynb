{
 "cells": [
  {
   "cell_type": "code",
   "execution_count": 1,
   "id": "272032e1-f805-4dbf-937b-5927b25945bd",
   "metadata": {
    "tags": []
   },
   "outputs": [
    {
     "name": "stdout",
     "output_type": "stream",
     "text": [
      "Defaulting to user installation because normal site-packages is not writeable\n",
      "Requirement already satisfied: requests in /apps/software/standard/core/jupyterlab/3.6.3-py3.11/lib/python3.11/site-packages (2.31.0)\n",
      "Requirement already satisfied: pandas in /apps/software/standard/core/jupyterlab/3.6.3-py3.11/lib/python3.11/site-packages (2.0.3)\n",
      "Requirement already satisfied: tqdm in /apps/software/standard/core/jupyterlab/3.6.3-py3.11/lib/python3.11/site-packages (4.65.0)\n",
      "Requirement already satisfied: charset-normalizer<4,>=2 in /apps/software/standard/core/jupyterlab/3.6.3-py3.11/lib/python3.11/site-packages (from requests) (3.2.0)\n",
      "Requirement already satisfied: idna<4,>=2.5 in /apps/software/standard/core/jupyterlab/3.6.3-py3.11/lib/python3.11/site-packages (from requests) (3.4)\n",
      "Requirement already satisfied: urllib3<3,>=1.21.1 in /apps/software/standard/core/jupyterlab/3.6.3-py3.11/lib/python3.11/site-packages (from requests) (2.0.4)\n",
      "Requirement already satisfied: certifi>=2017.4.17 in /apps/software/standard/core/jupyterlab/3.6.3-py3.11/lib/python3.11/site-packages (from requests) (2023.7.22)\n",
      "Requirement already satisfied: python-dateutil>=2.8.2 in /apps/software/standard/core/jupyterlab/3.6.3-py3.11/lib/python3.11/site-packages (from pandas) (2.8.2)\n",
      "Requirement already satisfied: pytz>=2020.1 in /apps/software/standard/core/jupyterlab/3.6.3-py3.11/lib/python3.11/site-packages (from pandas) (2023.3)\n",
      "Requirement already satisfied: tzdata>=2022.1 in /apps/software/standard/core/jupyterlab/3.6.3-py3.11/lib/python3.11/site-packages (from pandas) (2023.3)\n",
      "Requirement already satisfied: numpy>=1.21.0 in /apps/software/standard/core/jupyterlab/3.6.3-py3.11/lib/python3.11/site-packages (from pandas) (1.24.4)\n",
      "Requirement already satisfied: six>=1.5 in /apps/software/standard/core/jupyterlab/3.6.3-py3.11/lib/python3.11/site-packages (from python-dateutil>=2.8.2->pandas) (1.16.0)\n"
     ]
    }
   ],
   "source": [
    "!pip install requests pandas tqdm\n",
    "#requests - to make API calls"
   ]
  },
  {
   "cell_type": "markdown",
   "id": "8671a864-7d4d-41db-90ae-8f30faab68d3",
   "metadata": {},
   "source": [
    "# Testing out the Overpass API"
   ]
  },
  {
   "cell_type": "code",
   "execution_count": 3,
   "id": "32b79d7d-e2b6-4518-921f-db07d0ecc86c",
   "metadata": {
    "tags": []
   },
   "outputs": [
    {
     "name": "stdout",
     "output_type": "stream",
     "text": [
      "Script started...\n",
      "Fetching data from Overpass API...\n",
      "Data fetched in 9.46 seconds.\n",
      "Processing country data...\n"
     ]
    },
    {
     "name": "stderr",
     "output_type": "stream",
     "text": [
      "Processing Countries: 100%|██████████| 243/243 [00:00<00:00, 380162.58it/s]"
     ]
    },
    {
     "name": "stdout",
     "output_type": "stream",
     "text": [
      "Data processed in 0.00 seconds.\n",
      "Saving data to CSV...\n",
      "CSV saved as (Courtney)_osm_countries.csv in 0.00 seconds.\n",
      "Script completed in 9.56 seconds.\n"
     ]
    },
    {
     "name": "stderr",
     "output_type": "stream",
     "text": [
      "\n"
     ]
    }
   ],
   "source": [
    "import requests\n",
    "import pandas as pd\n",
    "import time\n",
    "from tqdm import tqdm\n",
    "\n",
    "# Overpass API URL\n",
    "OVERPASS_URL = \"http://overpass-api.de/api/interpreter\"\n",
    "\n",
    "# Query to fetch all country boundaries\n",
    "QUERY = \"\"\"\n",
    "[out:json];\n",
    "relation[\"boundary\"=\"administrative\"][\"admin_level\"=\"2\"];\n",
    "out center;\n",
    "\"\"\"\n",
    "\n",
    "def fetch_osm_data():\n",
    "    \"\"\"Fetches country data from OpenStreetMap Overpass API.\"\"\"\n",
    "    print(\"Fetching data from Overpass API...\")\n",
    "    start_time = time.time()\n",
    "    response = requests.get(OVERPASS_URL, params={\"data\": QUERY})\n",
    "    elapsed_time = time.time() - start_time\n",
    "    print(f\"Data fetched in {elapsed_time:.2f} seconds.\")\n",
    "\n",
    "    if response.status_code == 200:\n",
    "        return response.json()\n",
    "    else:\n",
    "        print(f\"Error: {response.status_code}\")\n",
    "        return None\n",
    "\n",
    "def parse_osm_data(data):\n",
    "    \"\"\"Parses OSM JSON response into structured country data.\"\"\"\n",
    "    print(\"Processing country data...\")\n",
    "    start_time = time.time()\n",
    "    country_data = []\n",
    "    \n",
    "    for element in tqdm(data[\"elements\"], desc=\"Processing Countries\"):\n",
    "        tags = element.get(\"tags\", {})\n",
    "        country = {\n",
    "            \"osm_id\": element[\"id\"],\n",
    "            \"population\": tags.get(\"population\", \"N/A\"),  \n",
    "            \"source\": tags.get(\"source\", \"N/A\"),  \n",
    "            \"place\": tags.get(\"place\", \"N/A\"),  \n",
    "            \"is_in\": tags.get(\"is_in\", \"N/A\"),  \n",
    "            \"name\": tags.get(\"name\", \"Unknown\"),  \n",
    "            \"name_ps\": tags.get(\"name:ps\", \"N/A\"),  \n",
    "            \"longitude\": element.get(\"center\", {}).get(\"lon\", \"N/A\"),  \n",
    "            \"latitude\": element.get(\"center\", {}).get(\"lat\", \"N/A\"),  \n",
    "            \"geom_type\": element[\"type\"]\n",
    "        }\n",
    "        country_data.append(country)\n",
    "    \n",
    "    elapsed_time = time.time() - start_time\n",
    "    print(f\"Data processed in {elapsed_time:.2f} seconds.\")\n",
    "    \n",
    "    return country_data\n",
    "\n",
    "def save_to_csv(data, filename=\"(Courtney)_osm_countries.csv\"):\n",
    "    \"\"\"Saves parsed data to a CSV file.\"\"\"\n",
    "    print(\"Saving data to CSV...\")\n",
    "    start_time = time.time()\n",
    "    df = pd.DataFrame(data)\n",
    "    df.to_csv(filename, index=False)\n",
    "    elapsed_time = time.time() - start_time\n",
    "    print(f\"CSV saved as {filename} in {elapsed_time:.2f} seconds.\")\n",
    "\n",
    "# Run script\n",
    "print(\"Script started...\")\n",
    "total_start_time = time.time()\n",
    "\n",
    "osm_data = fetch_osm_data()\n",
    "if osm_data:\n",
    "    parsed_data = parse_osm_data(osm_data)\n",
    "    save_to_csv(parsed_data)\n",
    "\n",
    "total_elapsed_time = time.time() - total_start_time\n",
    "print(f\"Script completed in {total_elapsed_time:.2f} seconds.\")\n",
    "\n"
   ]
  },
  {
   "cell_type": "markdown",
   "id": "29372d17-c9b5-4a08-b2d0-a6834a01a0f8",
   "metadata": {},
   "source": [
    "# Try to get all countries' data from World pop"
   ]
  },
  {
   "cell_type": "code",
   "execution_count": 2,
   "id": "3ff78adf-28dc-4b34-96bc-ea24f8595d20",
   "metadata": {
    "tags": []
   },
   "outputs": [
    {
     "name": "stdout",
     "output_type": "stream",
     "text": [
      "/sfs/ceph/standard/Plan-EO_Storage/Capstone-25\n"
     ]
    }
   ],
   "source": [
    "# import required packages\n",
    "\n",
    "import os\n",
    "import pandas as pd\n",
    "import numpy as np\n",
    "import requests\n",
    "import time\n",
    "\n",
    "# read in country metadata\n",
    "print(os.getcwd())\n",
    "\n",
    "metadata = pd.read_excel('../Plan-EO_Country_meta-data.xlsx')"
   ]
  },
  {
   "cell_type": "code",
   "execution_count": 3,
   "id": "ae2967f5-587f-4384-a807-edb35f9002d8",
   "metadata": {
    "tags": []
   },
   "outputs": [],
   "source": [
    "metadata = metadata[['Name', 'ISO2', 'ISO3']]"
   ]
  },
  {
   "cell_type": "code",
   "execution_count": 4,
   "id": "90be1570-ea17-4433-925c-3a0f43bf2055",
   "metadata": {
    "tags": []
   },
   "outputs": [
    {
     "data": {
      "text/html": [
       "<div>\n",
       "<style scoped>\n",
       "    .dataframe tbody tr th:only-of-type {\n",
       "        vertical-align: middle;\n",
       "    }\n",
       "\n",
       "    .dataframe tbody tr th {\n",
       "        vertical-align: top;\n",
       "    }\n",
       "\n",
       "    .dataframe thead th {\n",
       "        text-align: right;\n",
       "    }\n",
       "</style>\n",
       "<table border=\"1\" class=\"dataframe\">\n",
       "  <thead>\n",
       "    <tr style=\"text-align: right;\">\n",
       "      <th></th>\n",
       "      <th>Name</th>\n",
       "      <th>ISO2</th>\n",
       "      <th>ISO3</th>\n",
       "    </tr>\n",
       "  </thead>\n",
       "  <tbody>\n",
       "    <tr>\n",
       "      <th>0</th>\n",
       "      <td>Afghanistan</td>\n",
       "      <td>AF</td>\n",
       "      <td>AFG</td>\n",
       "    </tr>\n",
       "    <tr>\n",
       "      <th>1</th>\n",
       "      <td>Algeria</td>\n",
       "      <td>DZ</td>\n",
       "      <td>DZA</td>\n",
       "    </tr>\n",
       "    <tr>\n",
       "      <th>2</th>\n",
       "      <td>Angola</td>\n",
       "      <td>AO</td>\n",
       "      <td>AGO</td>\n",
       "    </tr>\n",
       "    <tr>\n",
       "      <th>3</th>\n",
       "      <td>Argentina</td>\n",
       "      <td>AR</td>\n",
       "      <td>ARG</td>\n",
       "    </tr>\n",
       "    <tr>\n",
       "      <th>4</th>\n",
       "      <td>Armenia</td>\n",
       "      <td>AM</td>\n",
       "      <td>ARM</td>\n",
       "    </tr>\n",
       "  </tbody>\n",
       "</table>\n",
       "</div>"
      ],
      "text/plain": [
       "          Name ISO2 ISO3\n",
       "0  Afghanistan   AF  AFG\n",
       "1      Algeria   DZ  DZA\n",
       "2       Angola   AO  AGO\n",
       "3    Argentina   AR  ARG\n",
       "4      Armenia   AM  ARM"
      ]
     },
     "execution_count": 4,
     "metadata": {},
     "output_type": "execute_result"
    }
   ],
   "source": [
    "metadata.head()"
   ]
  },
  {
   "cell_type": "code",
   "execution_count": 6,
   "id": "ee6a7d7c-ca27-4117-b4e6-fcb0e837c16a",
   "metadata": {
    "tags": []
   },
   "outputs": [],
   "source": [
    "def get_settlements(country_code):\n",
    "    # Overpass API query\n",
    "    query = f\"\"\"\n",
    "    [out:csv(::id, name, place, population, ::lat, ::lon)][timeout:600];\n",
    "        area[\"ISO3166-1\"=\"{country_code}\"]->.country;\n",
    "    (\n",
    "      node[\"place\"](area.country);\n",
    "      way[\"place\"](area.country);\n",
    "      relation[\"place\"](area.country);\n",
    "    );\n",
    "    out;\n",
    "    \"\"\"\n",
    "    \n",
    "    # headers\n",
    "    \n",
    "    headers = {\n",
    "        'User-Agent': 'Plan-EO_Pipeline/1.0 (cwp5xyj@virginia.edu)'\n",
    "    }\n",
    "    \n",
    "    \n",
    "    # Overpass API URL\n",
    "    url = 'http://overpass-api.de/api/interpreter'\n",
    "    \n",
    "    # Send request\n",
    "    response = requests.get(url, params={'data': query})\n",
    "    \n",
    "    # Check for errors\n",
    "    if response.status_code != 200:\n",
    "        raise Exception(f'Error {response.status_code}: {response.text}')\n",
    "    \n",
    "    \n",
    "    \n",
    "    return response\n",
    "\n",
    "def convert_to_csv(settlements_json):\n",
    "    settlements = []\n",
    "    for element in settlements_json['elements']:\n",
    "        osm_id = element['id']\n",
    "        name = element['tags'].get('name')\n",
    "        place_type = element['tags'].get('place')\n",
    "        lat = element.get('lat')\n",
    "        lon = element.get('lon')\n",
    "        population = element['tags'].get('population')\n",
    "        \n",
    "        settlements.append({'osm_id': osm_id, 'name': name, 'place': place_type, 'latitude': lat, 'longitude': lon, 'population': population})\n",
    "    \n",
    "    # Convert to DataFrame\n",
    "    df = pd.DataFrame(settlements)\n",
    "    \n",
    "    return df"
   ]
  },
  {
   "cell_type": "code",
   "execution_count": 10,
   "id": "153bf113-5fed-492f-a8ea-b13dfefd2841",
   "metadata": {
    "tags": []
   },
   "outputs": [
    {
     "ename": "TypeError",
     "evalue": "'Response' object is not subscriptable",
     "output_type": "error",
     "traceback": [
      "\u001b[0;31m---------------------------------------------------------------------------\u001b[0m",
      "\u001b[0;31mTypeError\u001b[0m                                 Traceback (most recent call last)",
      "File \u001b[0;32m<timed exec>:3\u001b[0m\n",
      "Cell \u001b[0;32mIn[6], line 37\u001b[0m, in \u001b[0;36mconvert_to_csv\u001b[0;34m(settlements_json)\u001b[0m\n\u001b[1;32m     35\u001b[0m \u001b[38;5;28;01mdef\u001b[39;00m \u001b[38;5;21mconvert_to_csv\u001b[39m(settlements_json):\n\u001b[1;32m     36\u001b[0m     settlements \u001b[38;5;241m=\u001b[39m []\n\u001b[0;32m---> 37\u001b[0m     \u001b[38;5;28;01mfor\u001b[39;00m element \u001b[38;5;129;01min\u001b[39;00m \u001b[43msettlements_json\u001b[49m\u001b[43m[\u001b[49m\u001b[38;5;124;43m'\u001b[39;49m\u001b[38;5;124;43melements\u001b[39;49m\u001b[38;5;124;43m'\u001b[39;49m\u001b[43m]\u001b[49m:\n\u001b[1;32m     38\u001b[0m         osm_id \u001b[38;5;241m=\u001b[39m element[\u001b[38;5;124m'\u001b[39m\u001b[38;5;124mid\u001b[39m\u001b[38;5;124m'\u001b[39m]\n\u001b[1;32m     39\u001b[0m         name \u001b[38;5;241m=\u001b[39m element[\u001b[38;5;124m'\u001b[39m\u001b[38;5;124mtags\u001b[39m\u001b[38;5;124m'\u001b[39m]\u001b[38;5;241m.\u001b[39mget(\u001b[38;5;124m'\u001b[39m\u001b[38;5;124mname\u001b[39m\u001b[38;5;124m'\u001b[39m)\n",
      "\u001b[0;31mTypeError\u001b[0m: 'Response' object is not subscriptable"
     ]
    }
   ],
   "source": [
    "%%time\n",
    "\n",
    "test = get_settlements(\"DZ\")\n",
    "test\n",
    "test_csv = convert_to_csv(test)"
   ]
  },
  {
   "cell_type": "code",
   "execution_count": 8,
   "id": "e62f1354-2524-4eb8-9bba-7885cada8cd1",
   "metadata": {
    "tags": []
   },
   "outputs": [
    {
     "ename": "NameError",
     "evalue": "name 'test_csv' is not defined",
     "output_type": "error",
     "traceback": [
      "\u001b[0;31m---------------------------------------------------------------------------\u001b[0m",
      "\u001b[0;31mNameError\u001b[0m                                 Traceback (most recent call last)",
      "Cell \u001b[0;32mIn[8], line 1\u001b[0m\n\u001b[0;32m----> 1\u001b[0m \u001b[43mtest_csv\u001b[49m\n",
      "\u001b[0;31mNameError\u001b[0m: name 'test_csv' is not defined"
     ]
    }
   ],
   "source": [
    "test_csv"
   ]
  },
  {
   "cell_type": "code",
   "execution_count": null,
   "id": "3b21947f-8e61-42f4-b7b5-83fc5671e6fd",
   "metadata": {},
   "outputs": [],
   "source": []
  }
 ],
 "metadata": {
  "kernelspec": {
   "display_name": "Python 3",
   "language": "python",
   "name": "python3"
  },
  "language_info": {
   "codemirror_mode": {
    "name": "ipython",
    "version": 3
   },
   "file_extension": ".py",
   "mimetype": "text/x-python",
   "name": "python",
   "nbconvert_exporter": "python",
   "pygments_lexer": "ipython3",
   "version": "3.11.4"
  }
 },
 "nbformat": 4,
 "nbformat_minor": 5
}
