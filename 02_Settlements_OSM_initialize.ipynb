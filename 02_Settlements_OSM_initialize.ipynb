{
 "cells": [
  {
   "cell_type": "markdown",
   "id": "5057694d-3919-423c-abc8-9dd847e7ac8a",
   "metadata": {},
   "source": [
    "# Initializing 02_Settlement Data\n",
    "\n",
    "### Important: this should not need to be run again!\n",
    "\n",
    "See `02_Settlements_OSM_update` for the code to update the settlement lists"
   ]
  },
  {
   "cell_type": "code",
   "execution_count": 1,
   "id": "0b44ad7a-4f25-4a4e-9c00-1bbdde2c5bcb",
   "metadata": {
    "tags": []
   },
   "outputs": [
    {
     "name": "stdout",
     "output_type": "stream",
     "text": [
      "/sfs/ceph/standard/Plan-EO_Storage/Capstone-25\n"
     ]
    }
   ],
   "source": [
    "# import required packages\n",
    "\n",
    "import os\n",
    "import pandas as pd\n",
    "import numpy as np\n",
    "import requests\n",
    "import time\n",
    "import datetime\n",
    "\n",
    "# read in country metadata\n",
    "print(os.getcwd())\n",
    "\n",
    "metadata = pd.read_excel('../Plan-EO_Country_meta-data.xlsx', keep_default_na=False)"
   ]
  },
  {
   "cell_type": "code",
   "execution_count": 2,
   "id": "9f9a8912-6416-433d-b0d1-6f7a1f87929e",
   "metadata": {
    "tags": []
   },
   "outputs": [],
   "source": [
    "metadata = metadata[['Name', 'ISO2', 'ISO3']] # extract useful metadata fields"
   ]
  },
  {
   "cell_type": "code",
   "execution_count": 3,
   "id": "b49acf8a-185b-4c1d-b286-aa962c17a151",
   "metadata": {
    "tags": []
   },
   "outputs": [
    {
     "data": {
      "text/html": [
       "<div>\n",
       "<style scoped>\n",
       "    .dataframe tbody tr th:only-of-type {\n",
       "        vertical-align: middle;\n",
       "    }\n",
       "\n",
       "    .dataframe tbody tr th {\n",
       "        vertical-align: top;\n",
       "    }\n",
       "\n",
       "    .dataframe thead th {\n",
       "        text-align: right;\n",
       "    }\n",
       "</style>\n",
       "<table border=\"1\" class=\"dataframe\">\n",
       "  <thead>\n",
       "    <tr style=\"text-align: right;\">\n",
       "      <th></th>\n",
       "      <th>Name</th>\n",
       "      <th>ISO2</th>\n",
       "      <th>ISO3</th>\n",
       "    </tr>\n",
       "  </thead>\n",
       "  <tbody>\n",
       "    <tr>\n",
       "      <th>0</th>\n",
       "      <td>Afghanistan</td>\n",
       "      <td>AF</td>\n",
       "      <td>AFG</td>\n",
       "    </tr>\n",
       "    <tr>\n",
       "      <th>1</th>\n",
       "      <td>Algeria</td>\n",
       "      <td>DZ</td>\n",
       "      <td>DZA</td>\n",
       "    </tr>\n",
       "    <tr>\n",
       "      <th>2</th>\n",
       "      <td>Angola</td>\n",
       "      <td>AO</td>\n",
       "      <td>AGO</td>\n",
       "    </tr>\n",
       "    <tr>\n",
       "      <th>3</th>\n",
       "      <td>Argentina</td>\n",
       "      <td>AR</td>\n",
       "      <td>ARG</td>\n",
       "    </tr>\n",
       "    <tr>\n",
       "      <th>4</th>\n",
       "      <td>Armenia</td>\n",
       "      <td>AM</td>\n",
       "      <td>ARM</td>\n",
       "    </tr>\n",
       "  </tbody>\n",
       "</table>\n",
       "</div>"
      ],
      "text/plain": [
       "          Name ISO2 ISO3\n",
       "0  Afghanistan   AF  AFG\n",
       "1      Algeria   DZ  DZA\n",
       "2       Angola   AO  AGO\n",
       "3    Argentina   AR  ARG\n",
       "4      Armenia   AM  ARM"
      ]
     },
     "execution_count": 3,
     "metadata": {},
     "output_type": "execute_result"
    }
   ],
   "source": [
    "metadata.head() # inspect metadata"
   ]
  },
  {
   "cell_type": "code",
   "execution_count": 4,
   "id": "2ce9574f-745c-44df-ac3b-2e63e8f87955",
   "metadata": {
    "tags": []
   },
   "outputs": [],
   "source": [
    "# this is the function to set up the CSV files for OSM data\n",
    "\n",
    "def get_settlements_origin(country_code):\n",
    "    # Overpass API query (note long timeout to prevent rate-limiting)\n",
    "    query = f\"\"\"\n",
    "    [out:json][timeout:600];\n",
    "        area[\"ISO3166-1\"=\"{country_code}\"]->.country;\n",
    "    (\n",
    "      node[\"place\"](area.country);\n",
    "      way[\"place\"](area.country);\n",
    "      relation[\"place\"](area.country);\n",
    "    );\n",
    "    out center;\n",
    "    \"\"\"\n",
    "    \n",
    "    # headers\n",
    "    \n",
    "    headers = {\n",
    "        'User-Agent': 'Plan-EO_Pipeline/1.0 (cwp5xyj@virginia.edu)'\n",
    "    }\n",
    "    \n",
    "    \n",
    "    # Overpass API URL\n",
    "    url = 'http://overpass-api.de/api/interpreter'\n",
    "    \n",
    "    # Send request\n",
    "    response = requests.get(url, params={'data': query}, headers = headers)\n",
    "    \n",
    "    # Check for errors\n",
    "    if response.status_code != 200:\n",
    "        raise Exception(f'Error {response.status_code}: {response.text}')\n",
    "        \n",
    "    return response.json()\n",
    "\n",
    "# this is the function to convert these initial calls into CSVs\n",
    "\n",
    "def convert_to_csv(settlements_json):\n",
    "    settlements = [] # initialize empty list\n",
    "    for element in settlements_json['elements']:\n",
    "        \n",
    "        # extract necessary data (mostly straightforward)\n",
    "        osm_id = element['id'] # unique OSM id\n",
    "        name = element['tags'].get('name') # place name\n",
    "        place_type = element['tags'].get('place') # place type\n",
    "        lat = element.get('lat') # latitude\n",
    "        lon = element.get('lon') # longitude\n",
    "        population = element['tags'].get('population') # total population\n",
    "        \n",
    "        # fill empty list with the above extracted data\n",
    "        settlements.append({'osm_id': osm_id, 'name': name, 'place': place_type, 'latitude': lat, 'longitude': lon, 'population': population})\n",
    "    \n",
    "    # Convert to DataFrame\n",
    "    df = pd.DataFrame(settlements)\n",
    "    df.columns = ['osm_id', 'name', 'place', 'lat', 'lon', 'population']\n",
    "    \n",
    "    return df\n",
    "\n"
   ]
  },
  {
   "cell_type": "code",
   "execution_count": 5,
   "id": "58391ca3-5ac2-4dd4-8108-f8e1c0d1ded9",
   "metadata": {
    "tags": []
   },
   "outputs": [
    {
     "data": {
      "text/html": [
       "<div>\n",
       "<style scoped>\n",
       "    .dataframe tbody tr th:only-of-type {\n",
       "        vertical-align: middle;\n",
       "    }\n",
       "\n",
       "    .dataframe tbody tr th {\n",
       "        vertical-align: top;\n",
       "    }\n",
       "\n",
       "    .dataframe thead th {\n",
       "        text-align: right;\n",
       "    }\n",
       "</style>\n",
       "<table border=\"1\" class=\"dataframe\">\n",
       "  <thead>\n",
       "    <tr style=\"text-align: right;\">\n",
       "      <th></th>\n",
       "      <th>Name</th>\n",
       "      <th>ISO2</th>\n",
       "      <th>ISO3</th>\n",
       "    </tr>\n",
       "  </thead>\n",
       "  <tbody>\n",
       "    <tr>\n",
       "      <th>0</th>\n",
       "      <td>Afghanistan</td>\n",
       "      <td>AF</td>\n",
       "      <td>AFG</td>\n",
       "    </tr>\n",
       "    <tr>\n",
       "      <th>1</th>\n",
       "      <td>Algeria</td>\n",
       "      <td>DZ</td>\n",
       "      <td>DZA</td>\n",
       "    </tr>\n",
       "    <tr>\n",
       "      <th>2</th>\n",
       "      <td>Angola</td>\n",
       "      <td>AO</td>\n",
       "      <td>AGO</td>\n",
       "    </tr>\n",
       "    <tr>\n",
       "      <th>3</th>\n",
       "      <td>Argentina</td>\n",
       "      <td>AR</td>\n",
       "      <td>ARG</td>\n",
       "    </tr>\n",
       "    <tr>\n",
       "      <th>4</th>\n",
       "      <td>Armenia</td>\n",
       "      <td>AM</td>\n",
       "      <td>ARM</td>\n",
       "    </tr>\n",
       "    <tr>\n",
       "      <th>5</th>\n",
       "      <td>Azerbaijan</td>\n",
       "      <td>AZ</td>\n",
       "      <td>AZE</td>\n",
       "    </tr>\n",
       "    <tr>\n",
       "      <th>6</th>\n",
       "      <td>Bangladesh</td>\n",
       "      <td>BD</td>\n",
       "      <td>BGD</td>\n",
       "    </tr>\n",
       "    <tr>\n",
       "      <th>7</th>\n",
       "      <td>Belize</td>\n",
       "      <td>BZ</td>\n",
       "      <td>BLZ</td>\n",
       "    </tr>\n",
       "    <tr>\n",
       "      <th>8</th>\n",
       "      <td>Benin</td>\n",
       "      <td>BJ</td>\n",
       "      <td>BEN</td>\n",
       "    </tr>\n",
       "    <tr>\n",
       "      <th>9</th>\n",
       "      <td>Bhutan</td>\n",
       "      <td>BT</td>\n",
       "      <td>BTN</td>\n",
       "    </tr>\n",
       "    <tr>\n",
       "      <th>10</th>\n",
       "      <td>Bolivia</td>\n",
       "      <td>BO</td>\n",
       "      <td>BOL</td>\n",
       "    </tr>\n",
       "    <tr>\n",
       "      <th>11</th>\n",
       "      <td>Botswana</td>\n",
       "      <td>BW</td>\n",
       "      <td>BWA</td>\n",
       "    </tr>\n",
       "    <tr>\n",
       "      <th>12</th>\n",
       "      <td>Brazil</td>\n",
       "      <td>BR</td>\n",
       "      <td>BRA</td>\n",
       "    </tr>\n",
       "    <tr>\n",
       "      <th>13</th>\n",
       "      <td>Burkina Faso</td>\n",
       "      <td>BF</td>\n",
       "      <td>BFA</td>\n",
       "    </tr>\n",
       "    <tr>\n",
       "      <th>14</th>\n",
       "      <td>Burundi</td>\n",
       "      <td>BI</td>\n",
       "      <td>BDI</td>\n",
       "    </tr>\n",
       "    <tr>\n",
       "      <th>15</th>\n",
       "      <td>Cambodia</td>\n",
       "      <td>KH</td>\n",
       "      <td>KHM</td>\n",
       "    </tr>\n",
       "    <tr>\n",
       "      <th>16</th>\n",
       "      <td>Cameroon</td>\n",
       "      <td>CM</td>\n",
       "      <td>CMR</td>\n",
       "    </tr>\n",
       "    <tr>\n",
       "      <th>17</th>\n",
       "      <td>Cape Verde</td>\n",
       "      <td>CV</td>\n",
       "      <td>CPV</td>\n",
       "    </tr>\n",
       "    <tr>\n",
       "      <th>18</th>\n",
       "      <td>Central African Republic</td>\n",
       "      <td>CF</td>\n",
       "      <td>CAF</td>\n",
       "    </tr>\n",
       "    <tr>\n",
       "      <th>19</th>\n",
       "      <td>Chad</td>\n",
       "      <td>TD</td>\n",
       "      <td>TCD</td>\n",
       "    </tr>\n",
       "  </tbody>\n",
       "</table>\n",
       "</div>"
      ],
      "text/plain": [
       "                        Name ISO2 ISO3\n",
       "0                Afghanistan   AF  AFG\n",
       "1                    Algeria   DZ  DZA\n",
       "2                     Angola   AO  AGO\n",
       "3                  Argentina   AR  ARG\n",
       "4                    Armenia   AM  ARM\n",
       "5                 Azerbaijan   AZ  AZE\n",
       "6                 Bangladesh   BD  BGD\n",
       "7                     Belize   BZ  BLZ\n",
       "8                      Benin   BJ  BEN\n",
       "9                     Bhutan   BT  BTN\n",
       "10                   Bolivia   BO  BOL\n",
       "11                  Botswana   BW  BWA\n",
       "12                    Brazil   BR  BRA\n",
       "13              Burkina Faso   BF  BFA\n",
       "14                   Burundi   BI  BDI\n",
       "15                  Cambodia   KH  KHM\n",
       "16                  Cameroon   CM  CMR\n",
       "17                Cape Verde   CV  CPV\n",
       "18  Central African Republic   CF  CAF\n",
       "19                      Chad   TD  TCD"
      ]
     },
     "execution_count": 5,
     "metadata": {},
     "output_type": "execute_result"
    }
   ],
   "source": [
    "metadata.iloc[:20]"
   ]
  },
  {
   "cell_type": "code",
   "execution_count": 6,
   "id": "8e979847-e695-4ad3-8d90-4ee2c8648369",
   "metadata": {
    "tags": []
   },
   "outputs": [
    {
     "data": {
      "text/plain": [
       "'/sfs/ceph/standard/Plan-EO_Storage/Capstone-25'"
      ]
     },
     "execution_count": 6,
     "metadata": {},
     "output_type": "execute_result"
    }
   ],
   "source": [
    "os.getcwd()"
   ]
  },
  {
   "cell_type": "code",
   "execution_count": 7,
   "id": "53f0e827-a9b2-450d-9668-c400615e3c20",
   "metadata": {
    "tags": []
   },
   "outputs": [
    {
     "data": {
      "text/html": [
       "<div>\n",
       "<style scoped>\n",
       "    .dataframe tbody tr th:only-of-type {\n",
       "        vertical-align: middle;\n",
       "    }\n",
       "\n",
       "    .dataframe tbody tr th {\n",
       "        vertical-align: top;\n",
       "    }\n",
       "\n",
       "    .dataframe thead th {\n",
       "        text-align: right;\n",
       "    }\n",
       "</style>\n",
       "<table border=\"1\" class=\"dataframe\">\n",
       "  <thead>\n",
       "    <tr style=\"text-align: right;\">\n",
       "      <th></th>\n",
       "      <th>Name</th>\n",
       "      <th>ISO2</th>\n",
       "      <th>ISO3</th>\n",
       "    </tr>\n",
       "  </thead>\n",
       "  <tbody>\n",
       "    <tr>\n",
       "      <th>79</th>\n",
       "      <td>Namibia</td>\n",
       "      <td>NA</td>\n",
       "      <td>NAM</td>\n",
       "    </tr>\n",
       "  </tbody>\n",
       "</table>\n",
       "</div>"
      ],
      "text/plain": [
       "       Name ISO2 ISO3\n",
       "79  Namibia   NA  NAM"
      ]
     },
     "execution_count": 7,
     "metadata": {},
     "output_type": "execute_result"
    }
   ],
   "source": [
    "metadata[metadata['Name'] == 'Namibia']"
   ]
  },
  {
   "cell_type": "code",
   "execution_count": 8,
   "id": "c611407a-d3fb-4631-babd-ee1e37706864",
   "metadata": {
    "tags": []
   },
   "outputs": [
    {
     "data": {
      "text/html": [
       "<div>\n",
       "<style scoped>\n",
       "    .dataframe tbody tr th:only-of-type {\n",
       "        vertical-align: middle;\n",
       "    }\n",
       "\n",
       "    .dataframe tbody tr th {\n",
       "        vertical-align: top;\n",
       "    }\n",
       "\n",
       "    .dataframe thead th {\n",
       "        text-align: right;\n",
       "    }\n",
       "</style>\n",
       "<table border=\"1\" class=\"dataframe\">\n",
       "  <thead>\n",
       "    <tr style=\"text-align: right;\">\n",
       "      <th></th>\n",
       "      <th>Name</th>\n",
       "      <th>ISO2</th>\n",
       "      <th>ISO3</th>\n",
       "    </tr>\n",
       "  </thead>\n",
       "  <tbody>\n",
       "    <tr>\n",
       "      <th>106</th>\n",
       "      <td>Syria</td>\n",
       "      <td>SY</td>\n",
       "      <td>SYR</td>\n",
       "    </tr>\n",
       "  </tbody>\n",
       "</table>\n",
       "</div>"
      ],
      "text/plain": [
       "      Name ISO2 ISO3\n",
       "106  Syria   SY  SYR"
      ]
     },
     "execution_count": 8,
     "metadata": {},
     "output_type": "execute_result"
    }
   ],
   "source": [
    "metadata[metadata['Name'] == 'Syria']"
   ]
  },
  {
   "cell_type": "code",
   "execution_count": 9,
   "id": "52d3ca3f-7271-4d6e-b7aa-f55aca2224f8",
   "metadata": {
    "tags": []
   },
   "outputs": [
    {
     "name": "stdout",
     "output_type": "stream",
     "text": [
      "CPU times: user 2.09 s, sys: 326 ms, total: 2.42 s\n",
      "Wall time: 10min 23s\n"
     ]
    }
   ],
   "source": [
    "%%time\n",
    "# To rerun this entire loop, uncomment the below comment and delete the line directly below it\n",
    "\n",
    "# for i in range(len(metadata)):\n",
    "for i in range(0,8):\n",
    "    \n",
    "    # extract necessary metadata - index is clean, so \"i\" works fine\n",
    "    iso2 = metadata.loc[i, 'ISO2']\n",
    "    iso3 = metadata.loc[i,'ISO3']\n",
    "    country = metadata.loc[i,'Name']\n",
    "    country = country.replace(' ', '_') # so that they match the Individual_country_data country folders\n",
    "    \n",
    "    json_looped = get_settlements_origin(iso2) # pass iso2 to API call function\n",
    "    df_looped = convert_to_csv(json_looped) # pass json API response to csv creation\n",
    "    \n",
    "    # create path\n",
    "    path = f'../Individual_country_data/{iso3}_{country}/02_Settlement_data/{iso3}_populated_places_points.csv'\n",
    "    \n",
    "    df_looped.to_csv(path, index = False)\n",
    "    if i+1 % 5 != 0:\n",
    "        time.sleep(60)\n",
    "    else:\n",
    "        time.sleep(300)"
   ]
  },
  {
   "cell_type": "markdown",
   "id": "1a0e322f-93e3-4993-a711-60b9ee043655",
   "metadata": {},
   "source": [
    "Because Overpass has a limit on the amount of requests I can put in, it will take a long time to populate all of these with CSVs. The initialization will take quite a long time, but it is 100% worth it."
   ]
  },
  {
   "cell_type": "markdown",
   "id": "328eeb82-abbd-451d-a100-ef4ceb07b0f5",
   "metadata": {},
   "source": [
    "Fun little thing about the country metadata: Namibia's ISO2, \"NA\", gets turned into a null when read in by Pandas by default."
   ]
  }
 ],
 "metadata": {
  "kernelspec": {
   "display_name": "Python 3 (ipykernel)",
   "language": "python",
   "name": "python3"
  },
  "language_info": {
   "codemirror_mode": {
    "name": "ipython",
    "version": 3
   },
   "file_extension": ".py",
   "mimetype": "text/x-python",
   "name": "python",
   "nbconvert_exporter": "python",
   "pygments_lexer": "ipython3",
   "version": "3.11.4"
  }
 },
 "nbformat": 4,
 "nbformat_minor": 5
}
